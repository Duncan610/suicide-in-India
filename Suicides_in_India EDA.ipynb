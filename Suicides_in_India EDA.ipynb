{
 "cells": [
  {
   "cell_type": "markdown",
   "metadata": {},
   "source": [
    "# INDIA SUICIDE RATES 2001 - 2012 EXPLORATORY DATA ANALYSIS "
   ]
  },
  {
   "cell_type": "code",
   "execution_count": 2,
   "metadata": {},
   "outputs": [],
   "source": [
    "import numpy as np\n",
    "import pandas as pd\n",
    "import matplotlib.pyplot as plt\n",
    "import seaborn as sns\n",
    "import plotly.express as px"
   ]
  },
  {
   "cell_type": "code",
   "execution_count": 46,
   "metadata": {},
   "outputs": [],
   "source": [
    "# loading the dataset\n",
    "df = pd.read_csv(r'C:\\Users\\otien\\Downloads\\Suicides in India 2001-2012.csv')"
   ]
  },
  {
   "cell_type": "code",
   "execution_count": 47,
   "metadata": {},
   "outputs": [
    {
     "data": {
      "text/html": [
       "<div>\n",
       "<style scoped>\n",
       "    .dataframe tbody tr th:only-of-type {\n",
       "        vertical-align: middle;\n",
       "    }\n",
       "\n",
       "    .dataframe tbody tr th {\n",
       "        vertical-align: top;\n",
       "    }\n",
       "\n",
       "    .dataframe thead th {\n",
       "        text-align: right;\n",
       "    }\n",
       "</style>\n",
       "<table border=\"1\" class=\"dataframe\">\n",
       "  <thead>\n",
       "    <tr style=\"text-align: right;\">\n",
       "      <th></th>\n",
       "      <th>State</th>\n",
       "      <th>Year</th>\n",
       "      <th>Type_code</th>\n",
       "      <th>Type</th>\n",
       "      <th>Gender</th>\n",
       "      <th>Age_group</th>\n",
       "      <th>Total</th>\n",
       "    </tr>\n",
       "  </thead>\n",
       "  <tbody>\n",
       "    <tr>\n",
       "      <th>0</th>\n",
       "      <td>A &amp; N Islands</td>\n",
       "      <td>2001</td>\n",
       "      <td>Causes</td>\n",
       "      <td>Illness (Aids/STD)</td>\n",
       "      <td>Female</td>\n",
       "      <td>0-14</td>\n",
       "      <td>0</td>\n",
       "    </tr>\n",
       "    <tr>\n",
       "      <th>1</th>\n",
       "      <td>A &amp; N Islands</td>\n",
       "      <td>2001</td>\n",
       "      <td>Causes</td>\n",
       "      <td>Bankruptcy or Sudden change in Economic</td>\n",
       "      <td>Female</td>\n",
       "      <td>0-14</td>\n",
       "      <td>0</td>\n",
       "    </tr>\n",
       "    <tr>\n",
       "      <th>2</th>\n",
       "      <td>A &amp; N Islands</td>\n",
       "      <td>2001</td>\n",
       "      <td>Causes</td>\n",
       "      <td>Cancellation/Non-Settlement of Marriage</td>\n",
       "      <td>Female</td>\n",
       "      <td>0-14</td>\n",
       "      <td>0</td>\n",
       "    </tr>\n",
       "    <tr>\n",
       "      <th>3</th>\n",
       "      <td>A &amp; N Islands</td>\n",
       "      <td>2001</td>\n",
       "      <td>Causes</td>\n",
       "      <td>Physical Abuse (Rape/Incest Etc.)</td>\n",
       "      <td>Female</td>\n",
       "      <td>0-14</td>\n",
       "      <td>0</td>\n",
       "    </tr>\n",
       "    <tr>\n",
       "      <th>4</th>\n",
       "      <td>A &amp; N Islands</td>\n",
       "      <td>2001</td>\n",
       "      <td>Causes</td>\n",
       "      <td>Dowry Dispute</td>\n",
       "      <td>Female</td>\n",
       "      <td>0-14</td>\n",
       "      <td>0</td>\n",
       "    </tr>\n",
       "  </tbody>\n",
       "</table>\n",
       "</div>"
      ],
      "text/plain": [
       "           State  Year Type_code                                     Type  \\\n",
       "0  A & N Islands  2001    Causes                       Illness (Aids/STD)   \n",
       "1  A & N Islands  2001    Causes  Bankruptcy or Sudden change in Economic   \n",
       "2  A & N Islands  2001    Causes  Cancellation/Non-Settlement of Marriage   \n",
       "3  A & N Islands  2001    Causes        Physical Abuse (Rape/Incest Etc.)   \n",
       "4  A & N Islands  2001    Causes                            Dowry Dispute   \n",
       "\n",
       "   Gender Age_group  Total  \n",
       "0  Female      0-14      0  \n",
       "1  Female      0-14      0  \n",
       "2  Female      0-14      0  \n",
       "3  Female      0-14      0  \n",
       "4  Female      0-14      0  "
      ]
     },
     "execution_count": 47,
     "metadata": {},
     "output_type": "execute_result"
    }
   ],
   "source": [
    "# viewing the dataset\n",
    "df.head()"
   ]
  },
  {
   "cell_type": "code",
   "execution_count": 5,
   "metadata": {},
   "outputs": [
    {
     "data": {
      "text/plain": [
       "(237519, 7)"
      ]
     },
     "execution_count": 5,
     "metadata": {},
     "output_type": "execute_result"
    }
   ],
   "source": [
    "# size of the dataset\n",
    "df.shape"
   ]
  },
  {
   "cell_type": "code",
   "execution_count": 6,
   "metadata": {},
   "outputs": [
    {
     "name": "stdout",
     "output_type": "stream",
     "text": [
      "<class 'pandas.core.frame.DataFrame'>\n",
      "RangeIndex: 237519 entries, 0 to 237518\n",
      "Data columns (total 7 columns):\n",
      " #   Column     Non-Null Count   Dtype \n",
      "---  ------     --------------   ----- \n",
      " 0   State      237519 non-null  object\n",
      " 1   Year       237519 non-null  int64 \n",
      " 2   Type_code  237519 non-null  object\n",
      " 3   Type       237519 non-null  object\n",
      " 4   Gender     237519 non-null  object\n",
      " 5   Age_group  237519 non-null  object\n",
      " 6   Total      237519 non-null  int64 \n",
      "dtypes: int64(2), object(5)\n",
      "memory usage: 12.7+ MB\n"
     ]
    }
   ],
   "source": [
    "# information about the dataset\n",
    "df.info()"
   ]
  },
  {
   "cell_type": "code",
   "execution_count": 7,
   "metadata": {},
   "outputs": [
    {
     "data": {
      "text/html": [
       "<div>\n",
       "<style scoped>\n",
       "    .dataframe tbody tr th:only-of-type {\n",
       "        vertical-align: middle;\n",
       "    }\n",
       "\n",
       "    .dataframe tbody tr th {\n",
       "        vertical-align: top;\n",
       "    }\n",
       "\n",
       "    .dataframe thead th {\n",
       "        text-align: right;\n",
       "    }\n",
       "</style>\n",
       "<table border=\"1\" class=\"dataframe\">\n",
       "  <thead>\n",
       "    <tr style=\"text-align: right;\">\n",
       "      <th></th>\n",
       "      <th>Year</th>\n",
       "      <th>Total</th>\n",
       "    </tr>\n",
       "  </thead>\n",
       "  <tbody>\n",
       "    <tr>\n",
       "      <th>count</th>\n",
       "      <td>237519.000000</td>\n",
       "      <td>237519.000000</td>\n",
       "    </tr>\n",
       "    <tr>\n",
       "      <th>mean</th>\n",
       "      <td>2006.500448</td>\n",
       "      <td>55.034477</td>\n",
       "    </tr>\n",
       "    <tr>\n",
       "      <th>std</th>\n",
       "      <td>3.452240</td>\n",
       "      <td>792.749038</td>\n",
       "    </tr>\n",
       "    <tr>\n",
       "      <th>min</th>\n",
       "      <td>2001.000000</td>\n",
       "      <td>0.000000</td>\n",
       "    </tr>\n",
       "    <tr>\n",
       "      <th>25%</th>\n",
       "      <td>2004.000000</td>\n",
       "      <td>0.000000</td>\n",
       "    </tr>\n",
       "    <tr>\n",
       "      <th>50%</th>\n",
       "      <td>2007.000000</td>\n",
       "      <td>0.000000</td>\n",
       "    </tr>\n",
       "    <tr>\n",
       "      <th>75%</th>\n",
       "      <td>2010.000000</td>\n",
       "      <td>6.000000</td>\n",
       "    </tr>\n",
       "    <tr>\n",
       "      <th>max</th>\n",
       "      <td>2012.000000</td>\n",
       "      <td>63343.000000</td>\n",
       "    </tr>\n",
       "  </tbody>\n",
       "</table>\n",
       "</div>"
      ],
      "text/plain": [
       "                Year          Total\n",
       "count  237519.000000  237519.000000\n",
       "mean     2006.500448      55.034477\n",
       "std         3.452240     792.749038\n",
       "min      2001.000000       0.000000\n",
       "25%      2004.000000       0.000000\n",
       "50%      2007.000000       0.000000\n",
       "75%      2010.000000       6.000000\n",
       "max      2012.000000   63343.000000"
      ]
     },
     "execution_count": 7,
     "metadata": {},
     "output_type": "execute_result"
    }
   ],
   "source": [
    "df.describe()"
   ]
  },
  {
   "cell_type": "code",
   "execution_count": 8,
   "metadata": {},
   "outputs": [
    {
     "data": {
      "text/html": [
       "<div>\n",
       "<style scoped>\n",
       "    .dataframe tbody tr th:only-of-type {\n",
       "        vertical-align: middle;\n",
       "    }\n",
       "\n",
       "    .dataframe tbody tr th {\n",
       "        vertical-align: top;\n",
       "    }\n",
       "\n",
       "    .dataframe thead th {\n",
       "        text-align: right;\n",
       "    }\n",
       "</style>\n",
       "<table border=\"1\" class=\"dataframe\">\n",
       "  <thead>\n",
       "    <tr style=\"text-align: right;\">\n",
       "      <th></th>\n",
       "      <th>State</th>\n",
       "      <th>Year</th>\n",
       "      <th>Type_code</th>\n",
       "      <th>Type</th>\n",
       "      <th>Gender</th>\n",
       "      <th>Age_group</th>\n",
       "      <th>Total</th>\n",
       "    </tr>\n",
       "  </thead>\n",
       "  <tbody>\n",
       "    <tr>\n",
       "      <th>0</th>\n",
       "      <td>False</td>\n",
       "      <td>False</td>\n",
       "      <td>False</td>\n",
       "      <td>False</td>\n",
       "      <td>False</td>\n",
       "      <td>False</td>\n",
       "      <td>False</td>\n",
       "    </tr>\n",
       "    <tr>\n",
       "      <th>1</th>\n",
       "      <td>False</td>\n",
       "      <td>False</td>\n",
       "      <td>False</td>\n",
       "      <td>False</td>\n",
       "      <td>False</td>\n",
       "      <td>False</td>\n",
       "      <td>False</td>\n",
       "    </tr>\n",
       "    <tr>\n",
       "      <th>2</th>\n",
       "      <td>False</td>\n",
       "      <td>False</td>\n",
       "      <td>False</td>\n",
       "      <td>False</td>\n",
       "      <td>False</td>\n",
       "      <td>False</td>\n",
       "      <td>False</td>\n",
       "    </tr>\n",
       "    <tr>\n",
       "      <th>3</th>\n",
       "      <td>False</td>\n",
       "      <td>False</td>\n",
       "      <td>False</td>\n",
       "      <td>False</td>\n",
       "      <td>False</td>\n",
       "      <td>False</td>\n",
       "      <td>False</td>\n",
       "    </tr>\n",
       "    <tr>\n",
       "      <th>4</th>\n",
       "      <td>False</td>\n",
       "      <td>False</td>\n",
       "      <td>False</td>\n",
       "      <td>False</td>\n",
       "      <td>False</td>\n",
       "      <td>False</td>\n",
       "      <td>False</td>\n",
       "    </tr>\n",
       "  </tbody>\n",
       "</table>\n",
       "</div>"
      ],
      "text/plain": [
       "   State   Year  Type_code   Type  Gender  Age_group  Total\n",
       "0  False  False      False  False   False      False  False\n",
       "1  False  False      False  False   False      False  False\n",
       "2  False  False      False  False   False      False  False\n",
       "3  False  False      False  False   False      False  False\n",
       "4  False  False      False  False   False      False  False"
      ]
     },
     "execution_count": 8,
     "metadata": {},
     "output_type": "execute_result"
    }
   ],
   "source": [
    "# checking for null values\n",
    "df.isnull().head() # returns boolean values"
   ]
  },
  {
   "cell_type": "code",
   "execution_count": 9,
   "metadata": {},
   "outputs": [
    {
     "data": {
      "text/plain": [
       "State        0.0\n",
       "Year         0.0\n",
       "Type_code    0.0\n",
       "Type         0.0\n",
       "Gender       0.0\n",
       "Age_group    0.0\n",
       "Total        0.0\n",
       "dtype: float64"
      ]
     },
     "execution_count": 9,
     "metadata": {},
     "output_type": "execute_result"
    }
   ],
   "source": [
    "df.isnull().sum()/len(df)"
   ]
  },
  {
   "cell_type": "markdown",
   "metadata": {},
   "source": [
    "### Data Pre-processing"
   ]
  },
  {
   "cell_type": "code",
   "execution_count": 10,
   "metadata": {},
   "outputs": [
    {
     "data": {
      "text/plain": [
       "State\n",
       "Madhya Pradesh       6792\n",
       "Maharashtra          6792\n",
       "Karnataka            6792\n",
       "Odisha               6791\n",
       "Andhra Pradesh       6791\n",
       "Rajasthan            6791\n",
       "Bihar                6790\n",
       "Chhattisgarh         6790\n",
       "Haryana              6790\n",
       "Kerala               6788\n",
       "Uttar Pradesh        6787\n",
       "Assam                6786\n",
       "Tamil Nadu           6786\n",
       "Gujarat              6786\n",
       "Jharkhand            6785\n",
       "Tripura              6782\n",
       "Delhi (Ut)           6782\n",
       "West Bengal          6780\n",
       "Punjab               6779\n",
       "Himachal Pradesh     6774\n",
       "Jammu & Kashmir      6761\n",
       "Goa                  6759\n",
       "Uttarakhand          6758\n",
       "Sikkim               6742\n",
       "Mizoram              6737\n",
       "Meghalaya            6733\n",
       "Puducherry           6730\n",
       "Chandigarh           6717\n",
       "A & N Islands        6712\n",
       "Daman & Diu          6710\n",
       "Arunachal Pradesh    6707\n",
       "Nagaland             6705\n",
       "D & N Haveli         6704\n",
       "Manipur              6700\n",
       "Lakshadweep          6674\n",
       "Total (All India)     312\n",
       "Total (States)        312\n",
       "Total (Uts)           312\n",
       "Name: count, dtype: int64"
      ]
     },
     "execution_count": 10,
     "metadata": {},
     "output_type": "execute_result"
    }
   ],
   "source": [
    "# checking for value counts of the columns\n",
    "df['State'].value_counts()"
   ]
  },
  {
   "cell_type": "code",
   "execution_count": 11,
   "metadata": {},
   "outputs": [
    {
     "data": {
      "text/html": [
       "<div>\n",
       "<style scoped>\n",
       "    .dataframe tbody tr th:only-of-type {\n",
       "        vertical-align: middle;\n",
       "    }\n",
       "\n",
       "    .dataframe tbody tr th {\n",
       "        vertical-align: top;\n",
       "    }\n",
       "\n",
       "    .dataframe thead th {\n",
       "        text-align: right;\n",
       "    }\n",
       "</style>\n",
       "<table border=\"1\" class=\"dataframe\">\n",
       "  <thead>\n",
       "    <tr style=\"text-align: right;\">\n",
       "      <th></th>\n",
       "      <th>State</th>\n",
       "      <th>Year</th>\n",
       "      <th>Type_code</th>\n",
       "      <th>Type</th>\n",
       "      <th>Gender</th>\n",
       "      <th>Age_group</th>\n",
       "      <th>Total</th>\n",
       "    </tr>\n",
       "  </thead>\n",
       "  <tbody>\n",
       "    <tr>\n",
       "      <th>0</th>\n",
       "      <td>A &amp; N Islands</td>\n",
       "      <td>2001</td>\n",
       "      <td>Causes</td>\n",
       "      <td>Illness (Aids/STD)</td>\n",
       "      <td>Female</td>\n",
       "      <td>0-14</td>\n",
       "      <td>0</td>\n",
       "    </tr>\n",
       "    <tr>\n",
       "      <th>1</th>\n",
       "      <td>A &amp; N Islands</td>\n",
       "      <td>2001</td>\n",
       "      <td>Causes</td>\n",
       "      <td>Bankruptcy or Sudden change in Economic</td>\n",
       "      <td>Female</td>\n",
       "      <td>0-14</td>\n",
       "      <td>0</td>\n",
       "    </tr>\n",
       "    <tr>\n",
       "      <th>2</th>\n",
       "      <td>A &amp; N Islands</td>\n",
       "      <td>2001</td>\n",
       "      <td>Causes</td>\n",
       "      <td>Cancellation/Non-Settlement of Marriage</td>\n",
       "      <td>Female</td>\n",
       "      <td>0-14</td>\n",
       "      <td>0</td>\n",
       "    </tr>\n",
       "    <tr>\n",
       "      <th>3</th>\n",
       "      <td>A &amp; N Islands</td>\n",
       "      <td>2001</td>\n",
       "      <td>Causes</td>\n",
       "      <td>Physical Abuse (Rape/Incest Etc.)</td>\n",
       "      <td>Female</td>\n",
       "      <td>0-14</td>\n",
       "      <td>0</td>\n",
       "    </tr>\n",
       "    <tr>\n",
       "      <th>4</th>\n",
       "      <td>A &amp; N Islands</td>\n",
       "      <td>2001</td>\n",
       "      <td>Causes</td>\n",
       "      <td>Dowry Dispute</td>\n",
       "      <td>Female</td>\n",
       "      <td>0-14</td>\n",
       "      <td>0</td>\n",
       "    </tr>\n",
       "    <tr>\n",
       "      <th>...</th>\n",
       "      <td>...</td>\n",
       "      <td>...</td>\n",
       "      <td>...</td>\n",
       "      <td>...</td>\n",
       "      <td>...</td>\n",
       "      <td>...</td>\n",
       "      <td>...</td>\n",
       "    </tr>\n",
       "    <tr>\n",
       "      <th>237514</th>\n",
       "      <td>West Bengal</td>\n",
       "      <td>2012</td>\n",
       "      <td>Social_Status</td>\n",
       "      <td>Seperated</td>\n",
       "      <td>Male</td>\n",
       "      <td>0-100+</td>\n",
       "      <td>149</td>\n",
       "    </tr>\n",
       "    <tr>\n",
       "      <th>237515</th>\n",
       "      <td>West Bengal</td>\n",
       "      <td>2012</td>\n",
       "      <td>Social_Status</td>\n",
       "      <td>Widowed/Widower</td>\n",
       "      <td>Male</td>\n",
       "      <td>0-100+</td>\n",
       "      <td>233</td>\n",
       "    </tr>\n",
       "    <tr>\n",
       "      <th>237516</th>\n",
       "      <td>West Bengal</td>\n",
       "      <td>2012</td>\n",
       "      <td>Social_Status</td>\n",
       "      <td>Married</td>\n",
       "      <td>Male</td>\n",
       "      <td>0-100+</td>\n",
       "      <td>5451</td>\n",
       "    </tr>\n",
       "    <tr>\n",
       "      <th>237517</th>\n",
       "      <td>West Bengal</td>\n",
       "      <td>2012</td>\n",
       "      <td>Social_Status</td>\n",
       "      <td>Divorcee</td>\n",
       "      <td>Male</td>\n",
       "      <td>0-100+</td>\n",
       "      <td>189</td>\n",
       "    </tr>\n",
       "    <tr>\n",
       "      <th>237518</th>\n",
       "      <td>West Bengal</td>\n",
       "      <td>2012</td>\n",
       "      <td>Social_Status</td>\n",
       "      <td>Never Married</td>\n",
       "      <td>Male</td>\n",
       "      <td>0-100+</td>\n",
       "      <td>2658</td>\n",
       "    </tr>\n",
       "  </tbody>\n",
       "</table>\n",
       "<p>236583 rows × 7 columns</p>\n",
       "</div>"
      ],
      "text/plain": [
       "                State  Year      Type_code  \\\n",
       "0       A & N Islands  2001         Causes   \n",
       "1       A & N Islands  2001         Causes   \n",
       "2       A & N Islands  2001         Causes   \n",
       "3       A & N Islands  2001         Causes   \n",
       "4       A & N Islands  2001         Causes   \n",
       "...               ...   ...            ...   \n",
       "237514    West Bengal  2012  Social_Status   \n",
       "237515    West Bengal  2012  Social_Status   \n",
       "237516    West Bengal  2012  Social_Status   \n",
       "237517    West Bengal  2012  Social_Status   \n",
       "237518    West Bengal  2012  Social_Status   \n",
       "\n",
       "                                           Type  Gender Age_group  Total  \n",
       "0                            Illness (Aids/STD)  Female      0-14      0  \n",
       "1       Bankruptcy or Sudden change in Economic  Female      0-14      0  \n",
       "2       Cancellation/Non-Settlement of Marriage  Female      0-14      0  \n",
       "3             Physical Abuse (Rape/Incest Etc.)  Female      0-14      0  \n",
       "4                                 Dowry Dispute  Female      0-14      0  \n",
       "...                                         ...     ...       ...    ...  \n",
       "237514                                Seperated    Male    0-100+    149  \n",
       "237515                          Widowed/Widower    Male    0-100+    233  \n",
       "237516                                  Married    Male    0-100+   5451  \n",
       "237517                                 Divorcee    Male    0-100+    189  \n",
       "237518                            Never Married    Male    0-100+   2658  \n",
       "\n",
       "[236583 rows x 7 columns]"
      ]
     },
     "execution_count": 11,
     "metadata": {},
     "output_type": "execute_result"
    }
   ],
   "source": [
    "# List of unwanted state names\n",
    "unwanted_states = ['Total (All India)', 'Total (States)', 'Total (Uts)']\n",
    "\n",
    "# Identify indices of rows to drop\n",
    "indices_to_drop = df[df['State'].isin(unwanted_states)].index\n",
    "\n",
    "# Drop the rows by index\n",
    "df = df.drop(indices_to_drop)\n",
    "df"
   ]
  },
  {
   "cell_type": "code",
   "execution_count": 12,
   "metadata": {},
   "outputs": [
    {
     "data": {
      "text/plain": [
       "State\n",
       "Karnataka            6792\n",
       "Madhya Pradesh       6792\n",
       "Maharashtra          6792\n",
       "Andhra Pradesh       6791\n",
       "Odisha               6791\n",
       "Rajasthan            6791\n",
       "Chhattisgarh         6790\n",
       "Bihar                6790\n",
       "Haryana              6790\n",
       "Kerala               6788\n",
       "Uttar Pradesh        6787\n",
       "Tamil Nadu           6786\n",
       "Gujarat              6786\n",
       "Assam                6786\n",
       "Jharkhand            6785\n",
       "Tripura              6782\n",
       "Delhi (Ut)           6782\n",
       "West Bengal          6780\n",
       "Punjab               6779\n",
       "Himachal Pradesh     6774\n",
       "Jammu & Kashmir      6761\n",
       "Goa                  6759\n",
       "Uttarakhand          6758\n",
       "Sikkim               6742\n",
       "Mizoram              6737\n",
       "Meghalaya            6733\n",
       "Puducherry           6730\n",
       "Chandigarh           6717\n",
       "A & N Islands        6712\n",
       "Daman & Diu          6710\n",
       "Arunachal Pradesh    6707\n",
       "Nagaland             6705\n",
       "D & N Haveli         6704\n",
       "Manipur              6700\n",
       "Lakshadweep          6674\n",
       "Name: count, dtype: int64"
      ]
     },
     "execution_count": 12,
     "metadata": {},
     "output_type": "execute_result"
    }
   ],
   "source": [
    "# confirmation that the unwanted states are removed\n",
    "df['State'].value_counts()"
   ]
  },
  {
   "cell_type": "code",
   "execution_count": 13,
   "metadata": {},
   "outputs": [
    {
     "data": {
      "text/plain": [
       "Age_group\n",
       "15-29     45223\n",
       "30-44     45193\n",
       "45-59     45146\n",
       "60+       45074\n",
       "0-14      45027\n",
       "0-100+    10920\n",
       "Name: count, dtype: int64"
      ]
     },
     "execution_count": 13,
     "metadata": {},
     "output_type": "execute_result"
    }
   ],
   "source": [
    "df['Age_group'].value_counts()"
   ]
  },
  {
   "cell_type": "code",
   "execution_count": 14,
   "metadata": {},
   "outputs": [
    {
     "data": {
      "text/plain": [
       "Gender\n",
       "Male      118411\n",
       "Female    118172\n",
       "Name: count, dtype: int64"
      ]
     },
     "execution_count": 14,
     "metadata": {},
     "output_type": "execute_result"
    }
   ],
   "source": [
    "df['Gender'].value_counts()"
   ]
  },
  {
   "cell_type": "code",
   "execution_count": 15,
   "metadata": {},
   "outputs": [
    {
     "data": {
      "text/plain": [
       "Type\n",
       "Others (Please Specify)                           7263\n",
       "Illness (Aids/STD)                                4200\n",
       "By Drowning                                       4200\n",
       "By touching electric wires                        4200\n",
       "By Machine                                        4200\n",
       "                                                  ... \n",
       "Graduate                                           840\n",
       "Middle                                             840\n",
       "Bankruptcy or Sudden change in Economic Status     350\n",
       "Not having Children (Barrenness/Impotency          350\n",
       "By Other means                                     350\n",
       "Name: count, Length: 69, dtype: int64"
      ]
     },
     "execution_count": 15,
     "metadata": {},
     "output_type": "execute_result"
    }
   ],
   "source": [
    "df['Type'].value_counts()"
   ]
  },
  {
   "cell_type": "code",
   "execution_count": 16,
   "metadata": {},
   "outputs": [
    {
     "data": {
      "text/plain": [
       "Type_code\n",
       "Causes                  109200\n",
       "Means_adopted            67200\n",
       "Professional_Profile     49263\n",
       "Education_Status          6720\n",
       "Social_Status             4200\n",
       "Name: count, dtype: int64"
      ]
     },
     "execution_count": 16,
     "metadata": {},
     "output_type": "execute_result"
    }
   ],
   "source": [
    "df['Type_code'].value_counts()"
   ]
  },
  {
   "cell_type": "code",
   "execution_count": 17,
   "metadata": {},
   "outputs": [
    {
     "data": {
      "text/plain": [
       "Type\n",
       "Illness (Aids/STD)                                4200\n",
       "Love Affairs                                      4200\n",
       "Paralysis                                         4200\n",
       "Suspected/Illicit Relation                        4200\n",
       "Cancer                                            4200\n",
       "Death of Dear Person                              4200\n",
       "Poverty                                           4200\n",
       "Other Causes (Please Specity)                     4200\n",
       "Unemployment                                      4200\n",
       "Causes Not known                                  4200\n",
       "Drug Abuse/Addiction                              4200\n",
       "Divorce                                           4200\n",
       "Professional/Career Problem                       4200\n",
       "Insanity/Mental Illness                           4200\n",
       "Failure in Examination                            4200\n",
       "Illegitimate Pregnancy                            4200\n",
       "Fall in Social Reputation                         4200\n",
       "Property Dispute                                  4200\n",
       "Other Prolonged Illness                           4200\n",
       "Ideological Causes/Hero Worshipping               4200\n",
       "Family Problems                                   4200\n",
       "Dowry Dispute                                     4200\n",
       "Physical Abuse (Rape/Incest Etc.)                 4200\n",
       "Cancellation/Non-Settlement of Marriage           4200\n",
       "Bankruptcy or Sudden change in Economic           3850\n",
       "Not having Children(Barrenness/Impotency          3850\n",
       "Bankruptcy or Sudden change in Economic Status     350\n",
       "Not having Children (Barrenness/Impotency          350\n",
       "Name: count, dtype: int64"
      ]
     },
     "execution_count": 17,
     "metadata": {},
     "output_type": "execute_result"
    }
   ],
   "source": [
    "# Causes\n",
    "df[df['Type_code'] == 'Causes']['Type'].value_counts()"
   ]
  },
  {
   "cell_type": "code",
   "execution_count": 18,
   "metadata": {},
   "outputs": [
    {
     "data": {
      "text/plain": [
       "Type\n",
       "By Consuming Insecticides                  4200\n",
       "By Over Alcoholism                         4200\n",
       "By Fire-Arms                               4200\n",
       "By Drowning                                4200\n",
       "By Jumping from (Building)                 4200\n",
       "By Overdose of sleeping pills              4200\n",
       "By coming under running vehicles/trains    4200\n",
       "By Consuming Other Poison                  4200\n",
       "By Self Infliction of injury               4200\n",
       "By Hanging                                 4200\n",
       "By Jumping off Moving Vehicles/Trains      4200\n",
       "By Fire/Self Immolation                    4200\n",
       "By Machine                                 4200\n",
       "By touching electric wires                 4200\n",
       "By Jumping from (Other sites)              4200\n",
       "By Other means (please specify)            3850\n",
       "By Other means                              350\n",
       "Name: count, dtype: int64"
      ]
     },
     "execution_count": 18,
     "metadata": {},
     "output_type": "execute_result"
    }
   ],
   "source": [
    "# Means adopted\n",
    "df[df['Type_code'] == 'Means_adopted']['Type'].value_counts()"
   ]
  },
  {
   "cell_type": "code",
   "execution_count": 19,
   "metadata": {},
   "outputs": [
    {
     "data": {
      "text/plain": [
       "Type\n",
       "Others (Please Specify)              7263\n",
       "Retired Person                       4200\n",
       "Unemployed                           4200\n",
       "Public Sector Undertaking            4200\n",
       "Service (Private)                    4200\n",
       "House Wife                           4200\n",
       "Self-employed (Business activity)    4200\n",
       "Professional Activity                4200\n",
       "Student                              4200\n",
       "Farming/Agriculture Activity         4200\n",
       "Service (Government)                 4200\n",
       "Name: count, dtype: int64"
      ]
     },
     "execution_count": 19,
     "metadata": {},
     "output_type": "execute_result"
    }
   ],
   "source": [
    "# Professional_Profile\n",
    "df[df['Type_code'] == 'Professional_Profile']['Type'].value_counts()"
   ]
  },
  {
   "cell_type": "code",
   "execution_count": 20,
   "metadata": {},
   "outputs": [
    {
     "data": {
      "text/plain": [
       "Type\n",
       "Diploma                                     840\n",
       "No Education                                840\n",
       "Post Graduate and Above                     840\n",
       "Middle                                      840\n",
       "Graduate                                    840\n",
       "Hr. Secondary/Intermediate/Pre-Universit    840\n",
       "Primary                                     840\n",
       "Matriculate/Secondary                       840\n",
       "Name: count, dtype: int64"
      ]
     },
     "execution_count": 20,
     "metadata": {},
     "output_type": "execute_result"
    }
   ],
   "source": [
    "# Education Status\n",
    "df[df['Type_code'] == 'Education_Status']['Type'].value_counts()"
   ]
  },
  {
   "cell_type": "code",
   "execution_count": 21,
   "metadata": {},
   "outputs": [
    {
     "data": {
      "text/plain": [
       "Type\n",
       "Married            840\n",
       "Seperated          840\n",
       "Widowed/Widower    840\n",
       "Divorcee           840\n",
       "Never Married      840\n",
       "Name: count, dtype: int64"
      ]
     },
     "execution_count": 21,
     "metadata": {},
     "output_type": "execute_result"
    }
   ],
   "source": [
    "# Social_Status\n",
    "df[df['Type_code'] == 'Social_Status']['Type'].value_counts()"
   ]
  },
  {
   "cell_type": "code",
   "execution_count": 22,
   "metadata": {},
   "outputs": [
    {
     "data": {
      "text/html": [
       "<div>\n",
       "<style scoped>\n",
       "    .dataframe tbody tr th:only-of-type {\n",
       "        vertical-align: middle;\n",
       "    }\n",
       "\n",
       "    .dataframe tbody tr th {\n",
       "        vertical-align: top;\n",
       "    }\n",
       "\n",
       "    .dataframe thead th {\n",
       "        text-align: right;\n",
       "    }\n",
       "</style>\n",
       "<table border=\"1\" class=\"dataframe\">\n",
       "  <thead>\n",
       "    <tr style=\"text-align: right;\">\n",
       "      <th></th>\n",
       "      <th>Year</th>\n",
       "      <th>Total</th>\n",
       "    </tr>\n",
       "  </thead>\n",
       "  <tbody>\n",
       "    <tr>\n",
       "      <th>0</th>\n",
       "      <td>2001</td>\n",
       "      <td>19719</td>\n",
       "    </tr>\n",
       "    <tr>\n",
       "      <th>1</th>\n",
       "      <td>2002</td>\n",
       "      <td>19712</td>\n",
       "    </tr>\n",
       "    <tr>\n",
       "      <th>2</th>\n",
       "      <td>2003</td>\n",
       "      <td>19708</td>\n",
       "    </tr>\n",
       "    <tr>\n",
       "      <th>3</th>\n",
       "      <td>2004</td>\n",
       "      <td>19705</td>\n",
       "    </tr>\n",
       "    <tr>\n",
       "      <th>4</th>\n",
       "      <td>2005</td>\n",
       "      <td>19725</td>\n",
       "    </tr>\n",
       "    <tr>\n",
       "      <th>5</th>\n",
       "      <td>2006</td>\n",
       "      <td>19708</td>\n",
       "    </tr>\n",
       "    <tr>\n",
       "      <th>6</th>\n",
       "      <td>2007</td>\n",
       "      <td>19716</td>\n",
       "    </tr>\n",
       "    <tr>\n",
       "      <th>7</th>\n",
       "      <td>2008</td>\n",
       "      <td>19719</td>\n",
       "    </tr>\n",
       "    <tr>\n",
       "      <th>8</th>\n",
       "      <td>2009</td>\n",
       "      <td>19708</td>\n",
       "    </tr>\n",
       "    <tr>\n",
       "      <th>9</th>\n",
       "      <td>2010</td>\n",
       "      <td>19714</td>\n",
       "    </tr>\n",
       "    <tr>\n",
       "      <th>10</th>\n",
       "      <td>2011</td>\n",
       "      <td>19728</td>\n",
       "    </tr>\n",
       "    <tr>\n",
       "      <th>11</th>\n",
       "      <td>2012</td>\n",
       "      <td>19721</td>\n",
       "    </tr>\n",
       "  </tbody>\n",
       "</table>\n",
       "</div>"
      ],
      "text/plain": [
       "    Year  Total\n",
       "0   2001  19719\n",
       "1   2002  19712\n",
       "2   2003  19708\n",
       "3   2004  19705\n",
       "4   2005  19725\n",
       "5   2006  19708\n",
       "6   2007  19716\n",
       "7   2008  19719\n",
       "8   2009  19708\n",
       "9   2010  19714\n",
       "10  2011  19728\n",
       "11  2012  19721"
      ]
     },
     "execution_count": 22,
     "metadata": {},
     "output_type": "execute_result"
    }
   ],
   "source": [
    "df[['Year', 'Total']].groupby('Year', as_index=False).count()"
   ]
  },
  {
   "cell_type": "code",
   "execution_count": 23,
   "metadata": {},
   "outputs": [
    {
     "data": {
      "text/html": [
       "<div>\n",
       "<style scoped>\n",
       "    .dataframe tbody tr th:only-of-type {\n",
       "        vertical-align: middle;\n",
       "    }\n",
       "\n",
       "    .dataframe tbody tr th {\n",
       "        vertical-align: top;\n",
       "    }\n",
       "\n",
       "    .dataframe thead th {\n",
       "        text-align: right;\n",
       "    }\n",
       "</style>\n",
       "<table border=\"1\" class=\"dataframe\">\n",
       "  <thead>\n",
       "    <tr style=\"text-align: right;\">\n",
       "      <th></th>\n",
       "      <th>Year</th>\n",
       "      <th>Total</th>\n",
       "    </tr>\n",
       "  </thead>\n",
       "  <tbody>\n",
       "    <tr>\n",
       "      <th>0</th>\n",
       "      <td>2001</td>\n",
       "      <td>542440</td>\n",
       "    </tr>\n",
       "    <tr>\n",
       "      <th>1</th>\n",
       "      <td>2002</td>\n",
       "      <td>551980</td>\n",
       "    </tr>\n",
       "    <tr>\n",
       "      <th>2</th>\n",
       "      <td>2003</td>\n",
       "      <td>554218</td>\n",
       "    </tr>\n",
       "    <tr>\n",
       "      <th>3</th>\n",
       "      <td>2004</td>\n",
       "      <td>568349</td>\n",
       "    </tr>\n",
       "    <tr>\n",
       "      <th>4</th>\n",
       "      <td>2005</td>\n",
       "      <td>569545</td>\n",
       "    </tr>\n",
       "    <tr>\n",
       "      <th>5</th>\n",
       "      <td>2006</td>\n",
       "      <td>590543</td>\n",
       "    </tr>\n",
       "    <tr>\n",
       "      <th>6</th>\n",
       "      <td>2007</td>\n",
       "      <td>613119</td>\n",
       "    </tr>\n",
       "    <tr>\n",
       "      <th>7</th>\n",
       "      <td>2008</td>\n",
       "      <td>625014</td>\n",
       "    </tr>\n",
       "    <tr>\n",
       "      <th>8</th>\n",
       "      <td>2009</td>\n",
       "      <td>635429</td>\n",
       "    </tr>\n",
       "    <tr>\n",
       "      <th>9</th>\n",
       "      <td>2010</td>\n",
       "      <td>672926</td>\n",
       "    </tr>\n",
       "    <tr>\n",
       "      <th>10</th>\n",
       "      <td>2011</td>\n",
       "      <td>677159</td>\n",
       "    </tr>\n",
       "    <tr>\n",
       "      <th>11</th>\n",
       "      <td>2012</td>\n",
       "      <td>647288</td>\n",
       "    </tr>\n",
       "  </tbody>\n",
       "</table>\n",
       "</div>"
      ],
      "text/plain": [
       "    Year   Total\n",
       "0   2001  542440\n",
       "1   2002  551980\n",
       "2   2003  554218\n",
       "3   2004  568349\n",
       "4   2005  569545\n",
       "5   2006  590543\n",
       "6   2007  613119\n",
       "7   2008  625014\n",
       "8   2009  635429\n",
       "9   2010  672926\n",
       "10  2011  677159\n",
       "11  2012  647288"
      ]
     },
     "execution_count": 23,
     "metadata": {},
     "output_type": "execute_result"
    }
   ],
   "source": [
    "# Number of people who commited suicide in each year from 2001 to 2012\n",
    "df = df[df['Year'].between(2001, 2012)]\n",
    "suicide_years = df.groupby('Year')['Total'].sum().reset_index()\n",
    "\n",
    "suicide_years"
   ]
  },
  {
   "cell_type": "markdown",
   "metadata": {},
   "source": [
    "### Exploratory Data Analysis (EDA)"
   ]
  },
  {
   "cell_type": "markdown",
   "metadata": {},
   "source": [
    "### Trend analysis of the total number of suicides from 2001 to 2012"
   ]
  },
  {
   "cell_type": "code",
   "execution_count": 24,
   "metadata": {},
   "outputs": [
    {
     "data": {
      "image/png": "[encoded data removed]",
      "text/plain": [
       "<Figure size 1000x800 with 1 Axes>"
      ]
     },
     "metadata": {},
     "output_type": "display_data"
    }
   ],
   "source": [
    "# visualization of the trend and the total number of people who commited suicide from 2001 to 2012\n",
    "plt.figure(figsize=(10,8))\n",
    "sns.lineplot(data= suicide_years, x = 'Year', y ='Total', marker='o')\n",
    "plt.xticks(ticks=range(2001, 2013), rotation=45)\n",
    "plt.xlabel('Year')\n",
    "plt.ylabel('Total')\n",
    "plt.title('Number of Suicides (2001 - 2012)')\n",
    "plt.show();\n"
   ]
  },
  {
   "cell_type": "markdown",
   "metadata": {},
   "source": [
    "### Rate of change of suicides over the years"
   ]
  },
  {
   "cell_type": "code",
   "execution_count": 55,
   "metadata": {},
   "outputs": [
    {
     "data": {
      "text/html": [
       "<div>\n",
       "<style scoped>\n",
       "    .dataframe tbody tr th:only-of-type {\n",
       "        vertical-align: middle;\n",
       "    }\n",
       "\n",
       "    .dataframe tbody tr th {\n",
       "        vertical-align: top;\n",
       "    }\n",
       "\n",
       "    .dataframe thead th {\n",
       "        text-align: right;\n",
       "    }\n",
       "</style>\n",
       "<table border=\"1\" class=\"dataframe\">\n",
       "  <thead>\n",
       "    <tr style=\"text-align: right;\">\n",
       "      <th></th>\n",
       "      <th>Year</th>\n",
       "      <th>Gender</th>\n",
       "      <th>Total</th>\n",
       "    </tr>\n",
       "  </thead>\n",
       "  <tbody>\n",
       "    <tr>\n",
       "      <th>0</th>\n",
       "      <td>2001</td>\n",
       "      <td>Female</td>\n",
       "      <td>379645</td>\n",
       "    </tr>\n",
       "    <tr>\n",
       "      <th>1</th>\n",
       "      <td>2001</td>\n",
       "      <td>Male</td>\n",
       "      <td>596819</td>\n",
       "    </tr>\n",
       "    <tr>\n",
       "      <th>2</th>\n",
       "      <td>2002</td>\n",
       "      <td>Female</td>\n",
       "      <td>369675</td>\n",
       "    </tr>\n",
       "    <tr>\n",
       "      <th>3</th>\n",
       "      <td>2002</td>\n",
       "      <td>Male</td>\n",
       "      <td>623973</td>\n",
       "    </tr>\n",
       "    <tr>\n",
       "      <th>4</th>\n",
       "      <td>2003</td>\n",
       "      <td>Female</td>\n",
       "      <td>365657</td>\n",
       "    </tr>\n",
       "    <tr>\n",
       "      <th>5</th>\n",
       "      <td>2003</td>\n",
       "      <td>Male</td>\n",
       "      <td>631965</td>\n",
       "    </tr>\n",
       "    <tr>\n",
       "      <th>6</th>\n",
       "      <td>2004</td>\n",
       "      <td>Female</td>\n",
       "      <td>369297</td>\n",
       "    </tr>\n",
       "    <tr>\n",
       "      <th>7</th>\n",
       "      <td>2004</td>\n",
       "      <td>Male</td>\n",
       "      <td>653840</td>\n",
       "    </tr>\n",
       "    <tr>\n",
       "      <th>8</th>\n",
       "      <td>2005</td>\n",
       "      <td>Female</td>\n",
       "      <td>368980</td>\n",
       "    </tr>\n",
       "    <tr>\n",
       "      <th>9</th>\n",
       "      <td>2005</td>\n",
       "      <td>Male</td>\n",
       "      <td>656221</td>\n",
       "    </tr>\n",
       "    <tr>\n",
       "      <th>10</th>\n",
       "      <td>2006</td>\n",
       "      <td>Female</td>\n",
       "      <td>381677</td>\n",
       "    </tr>\n",
       "    <tr>\n",
       "      <th>11</th>\n",
       "      <td>2006</td>\n",
       "      <td>Male</td>\n",
       "      <td>681314</td>\n",
       "    </tr>\n",
       "    <tr>\n",
       "      <th>12</th>\n",
       "      <td>2007</td>\n",
       "      <td>Female</td>\n",
       "      <td>390032</td>\n",
       "    </tr>\n",
       "    <tr>\n",
       "      <th>13</th>\n",
       "      <td>2007</td>\n",
       "      <td>Male</td>\n",
       "      <td>713635</td>\n",
       "    </tr>\n",
       "    <tr>\n",
       "      <th>14</th>\n",
       "      <td>2008</td>\n",
       "      <td>Female</td>\n",
       "      <td>400202</td>\n",
       "    </tr>\n",
       "    <tr>\n",
       "      <th>15</th>\n",
       "      <td>2008</td>\n",
       "      <td>Male</td>\n",
       "      <td>724880</td>\n",
       "    </tr>\n",
       "    <tr>\n",
       "      <th>16</th>\n",
       "      <td>2009</td>\n",
       "      <td>Female</td>\n",
       "      <td>411050</td>\n",
       "    </tr>\n",
       "    <tr>\n",
       "      <th>17</th>\n",
       "      <td>2009</td>\n",
       "      <td>Male</td>\n",
       "      <td>732983</td>\n",
       "    </tr>\n",
       "    <tr>\n",
       "      <th>18</th>\n",
       "      <td>2010</td>\n",
       "      <td>Female</td>\n",
       "      <td>426705</td>\n",
       "    </tr>\n",
       "    <tr>\n",
       "      <th>19</th>\n",
       "      <td>2010</td>\n",
       "      <td>Male</td>\n",
       "      <td>784617</td>\n",
       "    </tr>\n",
       "    <tr>\n",
       "      <th>20</th>\n",
       "      <td>2011</td>\n",
       "      <td>Female</td>\n",
       "      <td>429688</td>\n",
       "    </tr>\n",
       "    <tr>\n",
       "      <th>21</th>\n",
       "      <td>2011</td>\n",
       "      <td>Male</td>\n",
       "      <td>789811</td>\n",
       "    </tr>\n",
       "    <tr>\n",
       "      <th>22</th>\n",
       "      <td>2012</td>\n",
       "      <td>Female</td>\n",
       "      <td>410366</td>\n",
       "    </tr>\n",
       "    <tr>\n",
       "      <th>23</th>\n",
       "      <td>2012</td>\n",
       "      <td>Male</td>\n",
       "      <td>778702</td>\n",
       "    </tr>\n",
       "  </tbody>\n",
       "</table>\n",
       "</div>"
      ],
      "text/plain": [
       "    Year  Gender   Total\n",
       "0   2001  Female  379645\n",
       "1   2001    Male  596819\n",
       "2   2002  Female  369675\n",
       "3   2002    Male  623973\n",
       "4   2003  Female  365657\n",
       "5   2003    Male  631965\n",
       "6   2004  Female  369297\n",
       "7   2004    Male  653840\n",
       "8   2005  Female  368980\n",
       "9   2005    Male  656221\n",
       "10  2006  Female  381677\n",
       "11  2006    Male  681314\n",
       "12  2007  Female  390032\n",
       "13  2007    Male  713635\n",
       "14  2008  Female  400202\n",
       "15  2008    Male  724880\n",
       "16  2009  Female  411050\n",
       "17  2009    Male  732983\n",
       "18  2010  Female  426705\n",
       "19  2010    Male  784617\n",
       "20  2011  Female  429688\n",
       "21  2011    Male  789811\n",
       "22  2012  Female  410366\n",
       "23  2012    Male  778702"
      ]
     },
     "execution_count": 55,
     "metadata": {},
     "output_type": "execute_result"
    }
   ],
   "source": [
    "# Calculating the rate of change of suicide over the years\n",
    "grp_year = df.groupby(['Year', 'Gender'], as_index=False)['Total'].sum()\n",
    "grp_year"
   ]
  },
  {
   "cell_type": "code",
   "execution_count": 53,
   "metadata": {},
   "outputs": [
    {
     "data": {
      "image/png": "[encoded data removed]",
      "text/plain": [
       "<Figure size 1200x600 with 1 Axes>"
      ]
     },
     "metadata": {},
     "output_type": "display_data"
    }
   ],
   "source": [
    "# Plotting the rate of change over the years\n",
    "plt.figure(figsize=(12, 6))\n",
    "colors = {'Male': 'green', 'Female': 'purple'}\n",
    "for gender, color in colors.items():\n",
    "    sns.lineplot(x='Year', y='Total', data=grp_year[grp_year['Gender'] == gender], \n",
    "                 color=color, marker='o', markersize=8, label=gender)\n",
    "\n",
    "plt.title(\"Rate of Change of Suicides Over the Years\", fontsize=18)\n",
    "plt.xlabel(\"Year\", fontsize=14)\n",
    "plt.ylabel(\"Total Suicides\", fontsize=14)\n",
    "plt.xticks(fontsize=12)\n",
    "plt.yticks(fontsize=12)\n",
    "plt.legend(fontsize=12)\n",
    "plt.grid(True)\n",
    "plt.show()"
   ]
  },
  {
   "cell_type": "markdown",
   "metadata": {},
   "source": [
    "### Statewise comparison of suicides"
   ]
  },
  {
   "cell_type": "code",
   "execution_count": 25,
   "metadata": {},
   "outputs": [],
   "source": [
    "# states with the highest number of suicide \n",
    "suicide_states = df.groupby('State')['Total'].sum().reset_index().sort_values(by='Total', ascending=False)\n",
    "top_10 = suicide_states.head(10)"
   ]
  },
  {
   "cell_type": "code",
   "execution_count": 26,
   "metadata": {},
   "outputs": [
    {
     "data": {
      "image/png": "[encoded data removed]",
      "text/plain": [
       "<Figure size 1500x800 with 1 Axes>"
      ]
     },
     "metadata": {},
     "output_type": "display_data"
    }
   ],
   "source": [
    "# Plotting the barplot to visualize the states with the highest number of suicides\n",
    "plt.figure(figsize=(15, 8))\n",
    "label = sns.barplot(x='State', y='Total', data=top_10, hue='State', palette='coolwarm', dodge=False)\n",
    "\n",
    "# Adding value labels on the bars\n",
    "for container in label.containers:\n",
    "    label.bar_label(container, padding=2, size=12)\n",
    "plt.xlabel('State')\n",
    "plt.ylabel('Number of Suicides')\n",
    "plt.title('Highest Number of Suicides by State')\n",
    "plt.xticks(rotation=45)\n",
    "plt.legend([],[], frameon=False)  # Remove the legend\n",
    "plt.show()"
   ]
  },
  {
   "cell_type": "markdown",
   "metadata": {},
   "source": [
    "### Total suicides according to gender"
   ]
  },
  {
   "cell_type": "code",
   "execution_count": 27,
   "metadata": {},
   "outputs": [
    {
     "data": {
      "image/png": "[encoded data removed]",
      "text/plain": [
       "<Figure size 1000x800 with 1 Axes>"
      ]
     },
     "metadata": {},
     "output_type": "display_data"
    }
   ],
   "source": [
    "from matplotlib.ticker import FuncFormatter\n",
    "gender = df.groupby('Gender')['Total'].sum().reset_index().sort_values(by='Total', ascending=False)\n",
    "# Function to format y-axis labels\n",
    "def millions(x, pos):\n",
    "    'The two args are the value and tick position'\n",
    "    return '%1.1fM' % (x * 1e-6)\n",
    "\n",
    "# Plotting the barplot for gender comparison\n",
    "plt.figure(figsize=(10, 8))\n",
    "ax = sns.barplot(data=gender, x='Gender', y='Total')\n",
    "\n",
    "# Adding value labels on the bars\n",
    "for container in ax.containers:\n",
    "    ax.bar_label(container, padding=2, size=12, fmt='%1.1fM', labels=[f'{v * 1e-6:.1f}M' for v in container.datavalues])\n",
    "\n",
    "# Formatting the y-axis labels\n",
    "ax.yaxis.set_major_formatter(FuncFormatter(millions))\n",
    "\n",
    "plt.xlabel('Gender')\n",
    "plt.ylabel('Total Suicides')\n",
    "plt.title('Gender Comparison in Suicides')\n",
    "plt.show()"
   ]
  },
  {
   "cell_type": "markdown",
   "metadata": {},
   "source": [
    "### Gender comparison over the years"
   ]
  },
  {
   "cell_type": "code",
   "execution_count": 28,
   "metadata": {},
   "outputs": [],
   "source": [
    "# comparison of gender over the years\n",
    "years = df.groupby('Year')['Total'].sum()\n",
    "\n",
    "men_df = df[df['Gender'] == 'Male']\n",
    "men_year = men_df.groupby('Year')['Total'].sum().to_frame()\n",
    "men_year.rename(columns={'Total': 'Male'}, inplace= True)\n",
    "\n",
    "women_df = df[df['Gender'] == 'Female']\n",
    "women_year = women_df.groupby('Year')['Total'].sum().to_frame()\n",
    "women_year.rename(columns={'Total':'Female'}, inplace=True)\n",
    "\n",
    "gender_year = men_year.join(women_year)\n",
    "gender_year.reset_index(inplace=True)"
   ]
  },
  {
   "cell_type": "code",
   "execution_count": 29,
   "metadata": {},
   "outputs": [
    {
     "data": {
      "image/png": "[encoded data removed]",
      "text/plain": [
       "<Figure size 1000x800 with 1 Axes>"
      ]
     },
     "metadata": {},
     "output_type": "display_data"
    }
   ],
   "source": [
    "# Visualization of suicides by gender over the years\n",
    "plt.figure(figsize=(10, 8))\n",
    "sns.barplot(x='Year', y='Male', data=gender_year, color='green', label='Male')\n",
    "sns.barplot(x='Year', y='Female', data=gender_year, color='blue', label='Female')\n",
    "plt.xlabel('Year')\n",
    "plt.ylabel('Total Suicides')\n",
    "plt.title('Comparison of suicides by gender over the years')\n",
    "plt.legend()\n",
    "plt.show();"
   ]
  },
  {
   "cell_type": "markdown",
   "metadata": {},
   "source": [
    "### Most prevalent causes of suicides"
   ]
  },
  {
   "cell_type": "code",
   "execution_count": 30,
   "metadata": {},
   "outputs": [
    {
     "data": {
      "text/html": [
       "<div>\n",
       "<style scoped>\n",
       "    .dataframe tbody tr th:only-of-type {\n",
       "        vertical-align: middle;\n",
       "    }\n",
       "\n",
       "    .dataframe tbody tr th {\n",
       "        vertical-align: top;\n",
       "    }\n",
       "\n",
       "    .dataframe thead th {\n",
       "        text-align: right;\n",
       "    }\n",
       "</style>\n",
       "<table border=\"1\" class=\"dataframe\">\n",
       "  <thead>\n",
       "    <tr style=\"text-align: right;\">\n",
       "      <th></th>\n",
       "      <th>State</th>\n",
       "      <th>Year</th>\n",
       "      <th>Type_code</th>\n",
       "      <th>Type</th>\n",
       "      <th>Gender</th>\n",
       "      <th>Age_group</th>\n",
       "      <th>Total</th>\n",
       "    </tr>\n",
       "  </thead>\n",
       "  <tbody>\n",
       "    <tr>\n",
       "      <th>0</th>\n",
       "      <td>A &amp; N Islands</td>\n",
       "      <td>2001</td>\n",
       "      <td>Causes</td>\n",
       "      <td>Illness (Aids/STD)</td>\n",
       "      <td>Female</td>\n",
       "      <td>0-14</td>\n",
       "      <td>0</td>\n",
       "    </tr>\n",
       "    <tr>\n",
       "      <th>1</th>\n",
       "      <td>A &amp; N Islands</td>\n",
       "      <td>2001</td>\n",
       "      <td>Causes</td>\n",
       "      <td>Bankruptcy or Sudden change in Economic</td>\n",
       "      <td>Female</td>\n",
       "      <td>0-14</td>\n",
       "      <td>0</td>\n",
       "    </tr>\n",
       "    <tr>\n",
       "      <th>2</th>\n",
       "      <td>A &amp; N Islands</td>\n",
       "      <td>2001</td>\n",
       "      <td>Causes</td>\n",
       "      <td>Cancellation/Non-Settlement of Marriage</td>\n",
       "      <td>Female</td>\n",
       "      <td>0-14</td>\n",
       "      <td>0</td>\n",
       "    </tr>\n",
       "    <tr>\n",
       "      <th>3</th>\n",
       "      <td>A &amp; N Islands</td>\n",
       "      <td>2001</td>\n",
       "      <td>Causes</td>\n",
       "      <td>Physical Abuse (Rape/Incest Etc.)</td>\n",
       "      <td>Female</td>\n",
       "      <td>0-14</td>\n",
       "      <td>0</td>\n",
       "    </tr>\n",
       "    <tr>\n",
       "      <th>4</th>\n",
       "      <td>A &amp; N Islands</td>\n",
       "      <td>2001</td>\n",
       "      <td>Causes</td>\n",
       "      <td>Dowry Dispute</td>\n",
       "      <td>Female</td>\n",
       "      <td>0-14</td>\n",
       "      <td>0</td>\n",
       "    </tr>\n",
       "  </tbody>\n",
       "</table>\n",
       "</div>"
      ],
      "text/plain": [
       "           State  Year Type_code                                     Type  \\\n",
       "0  A & N Islands  2001    Causes                       Illness (Aids/STD)   \n",
       "1  A & N Islands  2001    Causes  Bankruptcy or Sudden change in Economic   \n",
       "2  A & N Islands  2001    Causes  Cancellation/Non-Settlement of Marriage   \n",
       "3  A & N Islands  2001    Causes        Physical Abuse (Rape/Incest Etc.)   \n",
       "4  A & N Islands  2001    Causes                            Dowry Dispute   \n",
       "\n",
       "   Gender Age_group  Total  \n",
       "0  Female      0-14      0  \n",
       "1  Female      0-14      0  \n",
       "2  Female      0-14      0  \n",
       "3  Female      0-14      0  \n",
       "4  Female      0-14      0  "
      ]
     },
     "execution_count": 30,
     "metadata": {},
     "output_type": "execute_result"
    }
   ],
   "source": [
    "suicide_causes = df[df['Type_code'] == 'Causes']\n",
    "suicide_causes.head()"
   ]
  },
  {
   "cell_type": "code",
   "execution_count": 31,
   "metadata": {},
   "outputs": [
    {
     "data": {
      "text/html": [
       "<div>\n",
       "<style scoped>\n",
       "    .dataframe tbody tr th:only-of-type {\n",
       "        vertical-align: middle;\n",
       "    }\n",
       "\n",
       "    .dataframe tbody tr th {\n",
       "        vertical-align: top;\n",
       "    }\n",
       "\n",
       "    .dataframe thead th {\n",
       "        text-align: right;\n",
       "    }\n",
       "</style>\n",
       "<table border=\"1\" class=\"dataframe\">\n",
       "  <thead>\n",
       "    <tr style=\"text-align: right;\">\n",
       "      <th></th>\n",
       "      <th>Type</th>\n",
       "      <th>Total</th>\n",
       "    </tr>\n",
       "  </thead>\n",
       "  <tbody>\n",
       "    <tr>\n",
       "      <th>11</th>\n",
       "      <td>Family Problems</td>\n",
       "      <td>341952</td>\n",
       "    </tr>\n",
       "    <tr>\n",
       "      <th>4</th>\n",
       "      <td>Causes Not known</td>\n",
       "      <td>237069</td>\n",
       "    </tr>\n",
       "    <tr>\n",
       "      <th>19</th>\n",
       "      <td>Other Causes (Please Specity)</td>\n",
       "      <td>216050</td>\n",
       "    </tr>\n",
       "    <tr>\n",
       "      <th>20</th>\n",
       "      <td>Other Prolonged Illness</td>\n",
       "      <td>194565</td>\n",
       "    </tr>\n",
       "    <tr>\n",
       "      <th>15</th>\n",
       "      <td>Insanity/Mental Illness</td>\n",
       "      <td>94229</td>\n",
       "    </tr>\n",
       "  </tbody>\n",
       "</table>\n",
       "</div>"
      ],
      "text/plain": [
       "                             Type   Total\n",
       "11                Family Problems  341952\n",
       "4                Causes Not known  237069\n",
       "19  Other Causes (Please Specity)  216050\n",
       "20        Other Prolonged Illness  194565\n",
       "15        Insanity/Mental Illness   94229"
      ]
     },
     "execution_count": 31,
     "metadata": {},
     "output_type": "execute_result"
    }
   ],
   "source": [
    "type_total = suicide_causes[['Type', 'Total']].groupby('Type', as_index=False).sum().sort_values('Total', ascending=False).head(10)\n",
    "type_total.head()"
   ]
  },
  {
   "cell_type": "code",
   "execution_count": 32,
   "metadata": {},
   "outputs": [
    {
     "data": {
      "image/png": "[encoded data removed]",
      "text/plain": [
       "<Figure size 800x600 with 1 Axes>"
      ]
     },
     "metadata": {},
     "output_type": "display_data"
    }
   ],
   "source": [
    "# Most prevalent causes of suicides\n",
    "plt.figure(figsize=(8, 6))\n",
    "labels = sns.barplot(x='Total', y='Type', data= suicide_causes, color='brown')\n",
    "labels.bar_label(labels.containers[0], padding=2, size=12)\n",
    "plt.title('Most prevalent cause of suicides')\n",
    "plt.xlabel('Total Suicides')\n",
    "plt.ylabel('Causes of suicide')\n",
    "plt.show();"
   ]
  },
  {
   "cell_type": "markdown",
   "metadata": {},
   "source": [
    "### Age group suicide comparison"
   ]
  },
  {
   "cell_type": "code",
   "execution_count": 33,
   "metadata": {},
   "outputs": [
    {
     "data": {
      "text/plain": [
       "0         0-14\n",
       "1         0-14\n",
       "2         0-14\n",
       "3         0-14\n",
       "4         0-14\n",
       "          ... \n",
       "237504     60+\n",
       "237505     60+\n",
       "237506     60+\n",
       "237507     60+\n",
       "237508     60+\n",
       "Name: Age_group, Length: 225663, dtype: object"
      ]
     },
     "execution_count": 33,
     "metadata": {},
     "output_type": "execute_result"
    }
   ],
   "source": [
    "# Deleting the 0-100+ row since it is the sum of all the other rows combined\n",
    "unwanted_age = ['0-100+']\n",
    "age_to_drop = df[df['Age_group'].isin(unwanted_age)].index\n",
    "df = df.drop(age_to_drop)\n",
    "\n",
    "df['Age_group']"
   ]
  },
  {
   "cell_type": "code",
   "execution_count": 34,
   "metadata": {},
   "outputs": [
    {
     "data": {
      "text/html": [
       "<div>\n",
       "<style scoped>\n",
       "    .dataframe tbody tr th:only-of-type {\n",
       "        vertical-align: middle;\n",
       "    }\n",
       "\n",
       "    .dataframe tbody tr th {\n",
       "        vertical-align: top;\n",
       "    }\n",
       "\n",
       "    .dataframe thead th {\n",
       "        text-align: right;\n",
       "    }\n",
       "</style>\n",
       "<table border=\"1\" class=\"dataframe\">\n",
       "  <thead>\n",
       "    <tr style=\"text-align: right;\">\n",
       "      <th></th>\n",
       "      <th>Total</th>\n",
       "    </tr>\n",
       "    <tr>\n",
       "      <th>Age_group</th>\n",
       "      <th></th>\n",
       "    </tr>\n",
       "  </thead>\n",
       "  <tbody>\n",
       "    <tr>\n",
       "      <th>0-14</th>\n",
       "      <td>98410</td>\n",
       "    </tr>\n",
       "    <tr>\n",
       "      <th>15-29</th>\n",
       "      <td>1534037</td>\n",
       "    </tr>\n",
       "    <tr>\n",
       "      <th>30-44</th>\n",
       "      <td>1471599</td>\n",
       "    </tr>\n",
       "    <tr>\n",
       "      <th>45-59</th>\n",
       "      <td>885177</td>\n",
       "    </tr>\n",
       "    <tr>\n",
       "      <th>60+</th>\n",
       "      <td>346925</td>\n",
       "    </tr>\n",
       "  </tbody>\n",
       "</table>\n",
       "</div>"
      ],
      "text/plain": [
       "             Total\n",
       "Age_group         \n",
       "0-14         98410\n",
       "15-29      1534037\n",
       "30-44      1471599\n",
       "45-59       885177\n",
       "60+         346925"
      ]
     },
     "execution_count": 34,
     "metadata": {},
     "output_type": "execute_result"
    }
   ],
   "source": [
    "age_total = df[['Age_group', 'Total']].groupby(['Age_group']).sum()\n",
    "age_total"
   ]
  },
  {
   "cell_type": "code",
   "execution_count": 45,
   "metadata": {},
   "outputs": [
    {
     "data": {
      "image/png": "[encoded data removed]",
      "text/plain": [
       "<Figure size 800x600 with 1 Axes>"
      ]
     },
     "metadata": {},
     "output_type": "display_data"
    }
   ],
   "source": [
    "# Age group comparison\n",
    "plt.figure(figsize=(8, 6))\n",
    "ax = sns.barplot(x='Age_group', y='Total', data=age_total)\n",
    "\n",
    "# Adding value labels on the bars\n",
    "for bar, total in zip(ax.patches, age_total['Total']):\n",
    "    ax.text(bar.get_x() + bar.get_width() / 2, bar.get_height(), f'{total:,}', \n",
    "            ha='center', va='bottom', fontsize=10)\n",
    "\n",
    "plt.xlabel('Age Group')\n",
    "plt.ylabel('Total Suicides')\n",
    "plt.title('Age Group vs Total Suicides')\n",
    "plt.show()"
   ]
  },
  {
   "cell_type": "markdown",
   "metadata": {},
   "source": [
    "### Suicide by means adopted"
   ]
  },
  {
   "cell_type": "code",
   "execution_count": 36,
   "metadata": {},
   "outputs": [
    {
     "data": {
      "text/html": [
       "<div>\n",
       "<style scoped>\n",
       "    .dataframe tbody tr th:only-of-type {\n",
       "        vertical-align: middle;\n",
       "    }\n",
       "\n",
       "    .dataframe tbody tr th {\n",
       "        vertical-align: top;\n",
       "    }\n",
       "\n",
       "    .dataframe thead th {\n",
       "        text-align: right;\n",
       "    }\n",
       "</style>\n",
       "<table border=\"1\" class=\"dataframe\">\n",
       "  <thead>\n",
       "    <tr style=\"text-align: right;\">\n",
       "      <th></th>\n",
       "      <th>State</th>\n",
       "      <th>Year</th>\n",
       "      <th>Type_code</th>\n",
       "      <th>Type</th>\n",
       "      <th>Gender</th>\n",
       "      <th>Age_group</th>\n",
       "      <th>Total</th>\n",
       "    </tr>\n",
       "  </thead>\n",
       "  <tbody>\n",
       "    <tr>\n",
       "      <th>276</th>\n",
       "      <td>A &amp; N Islands</td>\n",
       "      <td>2001</td>\n",
       "      <td>Means_adopted</td>\n",
       "      <td>By Consuming Insecticides</td>\n",
       "      <td>Female</td>\n",
       "      <td>0-14</td>\n",
       "      <td>0</td>\n",
       "    </tr>\n",
       "    <tr>\n",
       "      <th>277</th>\n",
       "      <td>A &amp; N Islands</td>\n",
       "      <td>2001</td>\n",
       "      <td>Means_adopted</td>\n",
       "      <td>By Hanging</td>\n",
       "      <td>Female</td>\n",
       "      <td>0-14</td>\n",
       "      <td>2</td>\n",
       "    </tr>\n",
       "    <tr>\n",
       "      <th>278</th>\n",
       "      <td>A &amp; N Islands</td>\n",
       "      <td>2001</td>\n",
       "      <td>Means_adopted</td>\n",
       "      <td>By Jumping from (Other sites)</td>\n",
       "      <td>Female</td>\n",
       "      <td>0-14</td>\n",
       "      <td>0</td>\n",
       "    </tr>\n",
       "    <tr>\n",
       "      <th>279</th>\n",
       "      <td>A &amp; N Islands</td>\n",
       "      <td>2001</td>\n",
       "      <td>Means_adopted</td>\n",
       "      <td>By touching electric wires</td>\n",
       "      <td>Female</td>\n",
       "      <td>0-14</td>\n",
       "      <td>0</td>\n",
       "    </tr>\n",
       "    <tr>\n",
       "      <th>280</th>\n",
       "      <td>A &amp; N Islands</td>\n",
       "      <td>2001</td>\n",
       "      <td>Means_adopted</td>\n",
       "      <td>By Machine</td>\n",
       "      <td>Female</td>\n",
       "      <td>0-14</td>\n",
       "      <td>0</td>\n",
       "    </tr>\n",
       "  </tbody>\n",
       "</table>\n",
       "</div>"
      ],
      "text/plain": [
       "             State  Year      Type_code                           Type  \\\n",
       "276  A & N Islands  2001  Means_adopted      By Consuming Insecticides   \n",
       "277  A & N Islands  2001  Means_adopted                     By Hanging   \n",
       "278  A & N Islands  2001  Means_adopted  By Jumping from (Other sites)   \n",
       "279  A & N Islands  2001  Means_adopted     By touching electric wires   \n",
       "280  A & N Islands  2001  Means_adopted                     By Machine   \n",
       "\n",
       "     Gender Age_group  Total  \n",
       "276  Female      0-14      0  \n",
       "277  Female      0-14      2  \n",
       "278  Female      0-14      0  \n",
       "279  Female      0-14      0  \n",
       "280  Female      0-14      0  "
      ]
     },
     "execution_count": 36,
     "metadata": {},
     "output_type": "execute_result"
    }
   ],
   "source": [
    "suicide_means = df[df['Type_code'] == 'Means_adopted']\n",
    "suicide_means.head()"
   ]
  },
  {
   "cell_type": "code",
   "execution_count": 37,
   "metadata": {},
   "outputs": [
    {
     "data": {
      "text/html": [
       "<div>\n",
       "<style scoped>\n",
       "    .dataframe tbody tr th:only-of-type {\n",
       "        vertical-align: middle;\n",
       "    }\n",
       "\n",
       "    .dataframe tbody tr th {\n",
       "        vertical-align: top;\n",
       "    }\n",
       "\n",
       "    .dataframe thead th {\n",
       "        text-align: right;\n",
       "    }\n",
       "</style>\n",
       "<table border=\"1\" class=\"dataframe\">\n",
       "  <thead>\n",
       "    <tr style=\"text-align: right;\">\n",
       "      <th></th>\n",
       "      <th>Type</th>\n",
       "      <th>Total</th>\n",
       "    </tr>\n",
       "  </thead>\n",
       "  <tbody>\n",
       "    <tr>\n",
       "      <th>5</th>\n",
       "      <td>By Hanging</td>\n",
       "      <td>460955</td>\n",
       "    </tr>\n",
       "    <tr>\n",
       "      <th>0</th>\n",
       "      <td>By Consuming Insecticides</td>\n",
       "      <td>275501</td>\n",
       "    </tr>\n",
       "    <tr>\n",
       "      <th>1</th>\n",
       "      <td>By Consuming Other Poison</td>\n",
       "      <td>231178</td>\n",
       "    </tr>\n",
       "    <tr>\n",
       "      <th>11</th>\n",
       "      <td>By Other means (please specify)</td>\n",
       "      <td>135132</td>\n",
       "    </tr>\n",
       "    <tr>\n",
       "      <th>4</th>\n",
       "      <td>By Fire/Self Immolation</td>\n",
       "      <td>128006</td>\n",
       "    </tr>\n",
       "  </tbody>\n",
       "</table>\n",
       "</div>"
      ],
      "text/plain": [
       "                               Type   Total\n",
       "5                        By Hanging  460955\n",
       "0         By Consuming Insecticides  275501\n",
       "1         By Consuming Other Poison  231178\n",
       "11  By Other means (please specify)  135132\n",
       "4           By Fire/Self Immolation  128006"
      ]
     },
     "execution_count": 37,
     "metadata": {},
     "output_type": "execute_result"
    }
   ],
   "source": [
    "type_causes = suicide_means[['Type', 'Total']].groupby('Type', as_index=False).sum().sort_values('Total',ascending=False)\n",
    "type_causes.head()"
   ]
  },
  {
   "cell_type": "code",
   "execution_count": 38,
   "metadata": {},
   "outputs": [
    {
     "data": {
      "image/png": "[encoded data removed]",
      "text/plain": [
       "<Figure size 800x600 with 1 Axes>"
      ]
     },
     "metadata": {},
     "output_type": "display_data"
    }
   ],
   "source": [
    "# Visualization of the Type by total\n",
    "plt.figure(figsize=(8, 6))\n",
    "label = sns.barplot(x='Total', y='Type', data=type_causes, color='yellow')\n",
    "label.bar_label(label.containers[0], padding=2, size=12)\n",
    "plt.xlabel('Means Adopted')\n",
    "plt.ylabel('total')\n",
    "plt.title('Suicide by Means adopted')\n",
    "plt.show();"
   ]
  },
  {
   "cell_type": "markdown",
   "metadata": {},
   "source": [
    "### Suicide by professional profile"
   ]
  },
  {
   "cell_type": "code",
   "execution_count": 39,
   "metadata": {},
   "outputs": [
    {
     "data": {
      "text/html": [
       "<div>\n",
       "<style scoped>\n",
       "    .dataframe tbody tr th:only-of-type {\n",
       "        vertical-align: middle;\n",
       "    }\n",
       "\n",
       "    .dataframe tbody tr th {\n",
       "        vertical-align: top;\n",
       "    }\n",
       "\n",
       "    .dataframe thead th {\n",
       "        text-align: right;\n",
       "    }\n",
       "</style>\n",
       "<table border=\"1\" class=\"dataframe\">\n",
       "  <thead>\n",
       "    <tr style=\"text-align: right;\">\n",
       "      <th></th>\n",
       "      <th>Type</th>\n",
       "      <th>Gender</th>\n",
       "      <th>Total</th>\n",
       "    </tr>\n",
       "  </thead>\n",
       "  <tbody>\n",
       "    <tr>\n",
       "      <th>0</th>\n",
       "      <td>Farming/Agriculture Activity</td>\n",
       "      <td>Female</td>\n",
       "      <td>27300</td>\n",
       "    </tr>\n",
       "    <tr>\n",
       "      <th>1</th>\n",
       "      <td>Farming/Agriculture Activity</td>\n",
       "      <td>Male</td>\n",
       "      <td>170623</td>\n",
       "    </tr>\n",
       "    <tr>\n",
       "      <th>2</th>\n",
       "      <td>House Wife</td>\n",
       "      <td>Female</td>\n",
       "      <td>285243</td>\n",
       "    </tr>\n",
       "    <tr>\n",
       "      <th>3</th>\n",
       "      <td>House Wife</td>\n",
       "      <td>Male</td>\n",
       "      <td>0</td>\n",
       "    </tr>\n",
       "    <tr>\n",
       "      <th>4</th>\n",
       "      <td>Others (Please Specify)</td>\n",
       "      <td>Female</td>\n",
       "      <td>111191</td>\n",
       "    </tr>\n",
       "  </tbody>\n",
       "</table>\n",
       "</div>"
      ],
      "text/plain": [
       "                           Type  Gender   Total\n",
       "0  Farming/Agriculture Activity  Female   27300\n",
       "1  Farming/Agriculture Activity    Male  170623\n",
       "2                    House Wife  Female  285243\n",
       "3                    House Wife    Male       0\n",
       "4       Others (Please Specify)  Female  111191"
      ]
     },
     "execution_count": 39,
     "metadata": {},
     "output_type": "execute_result"
    }
   ],
   "source": [
    "suicide_profession = df[df['Type_code'] == 'Professional_Profile'].groupby(['Type', 'Gender'])['Total'].sum().reset_index()\n",
    "suicide_profession.head()"
   ]
  },
  {
   "cell_type": "code",
   "execution_count": 40,
   "metadata": {},
   "outputs": [
    {
     "data": {
      "text/plain": [
       "<Figure size 800x600 with 0 Axes>"
      ]
     },
     "metadata": {},
     "output_type": "display_data"
    },
    {
     "data": {
      "image/png": "[encoded data removed]",
      "text/plain": [
       "<Figure size 600.25x500 with 1 Axes>"
      ]
     },
     "metadata": {},
     "output_type": "display_data"
    }
   ],
   "source": [
    "# Visualization of suicide_profession by professional profile\n",
    "plt.figure(figsize=(8, 6))\n",
    "labels = sns.catplot(x='Type', y='Total', kind='bar',hue='Gender', data=suicide_profession)\n",
    "labels.set_xticklabels(rotation=90)\n",
    "plt.xlabel('Profession')\n",
    "plt.ylabel('Total')\n",
    "plt.title('Suicide by Profession')\n",
    "plt.show()"
   ]
  },
  {
   "cell_type": "markdown",
   "metadata": {},
   "source": [
    "### Suicide by Education status"
   ]
  },
  {
   "cell_type": "code",
   "execution_count": 48,
   "metadata": {},
   "outputs": [
    {
     "data": {
      "text/html": [
       "<div>\n",
       "<style scoped>\n",
       "    .dataframe tbody tr th:only-of-type {\n",
       "        vertical-align: middle;\n",
       "    }\n",
       "\n",
       "    .dataframe tbody tr th {\n",
       "        vertical-align: top;\n",
       "    }\n",
       "\n",
       "    .dataframe thead th {\n",
       "        text-align: right;\n",
       "    }\n",
       "</style>\n",
       "<table border=\"1\" class=\"dataframe\">\n",
       "  <thead>\n",
       "    <tr style=\"text-align: right;\">\n",
       "      <th></th>\n",
       "      <th>Type</th>\n",
       "      <th>Gender</th>\n",
       "      <th>Total</th>\n",
       "    </tr>\n",
       "  </thead>\n",
       "  <tbody>\n",
       "    <tr>\n",
       "      <th>0</th>\n",
       "      <td>Diploma</td>\n",
       "      <td>Female</td>\n",
       "      <td>11202</td>\n",
       "    </tr>\n",
       "    <tr>\n",
       "      <th>1</th>\n",
       "      <td>Diploma</td>\n",
       "      <td>Male</td>\n",
       "      <td>31257</td>\n",
       "    </tr>\n",
       "    <tr>\n",
       "      <th>2</th>\n",
       "      <td>Graduate</td>\n",
       "      <td>Female</td>\n",
       "      <td>29052</td>\n",
       "    </tr>\n",
       "    <tr>\n",
       "      <th>3</th>\n",
       "      <td>Graduate</td>\n",
       "      <td>Male</td>\n",
       "      <td>64770</td>\n",
       "    </tr>\n",
       "    <tr>\n",
       "      <th>4</th>\n",
       "      <td>Hr. Secondary/Intermediate/Pre-Universit</td>\n",
       "      <td>Female</td>\n",
       "      <td>118218</td>\n",
       "    </tr>\n",
       "  </tbody>\n",
       "</table>\n",
       "</div>"
      ],
      "text/plain": [
       "                                       Type  Gender   Total\n",
       "0                                   Diploma  Female   11202\n",
       "1                                   Diploma    Male   31257\n",
       "2                                  Graduate  Female   29052\n",
       "3                                  Graduate    Male   64770\n",
       "4  Hr. Secondary/Intermediate/Pre-Universit  Female  118218"
      ]
     },
     "execution_count": 48,
     "metadata": {},
     "output_type": "execute_result"
    }
   ],
   "source": [
    "suicide_educ = df[df['Type_code'] == 'Education_Status'].groupby(['Type', 'Gender'])['Total'].sum().reset_index()\n",
    "suicide_educ.head()"
   ]
  },
  {
   "cell_type": "code",
   "execution_count": 49,
   "metadata": {},
   "outputs": [
    {
     "data": {
      "application/vnd.plotly.v1+json": {
       "config": {
        "plotlyServerURL": "https://plot.ly"
       },
       "data": [
        {
         "alignmentgroup": "True",
         "hovertemplate": "Gender=Female<br>Education Status=%{x}<br>Total Suicides=%{text}<extra></extra>",
         "legendgroup": "Female",
         "marker": {
          "color": "#636efa",
          "pattern": {
           "shape": ""
          }
         },
         "name": "Female",
         "offsetgroup": "Female",
         "orientation": "v",
         "showlegend": true,
         "text": [
          11202,
          29052,
          118218,
          245820,
          353289,
          398826,
          6612,
          409020
         ],
         "textposition": "auto",
         "type": "bar",
         "x": [
          "Diploma",
          "Graduate",
          "Hr. Secondary/Intermediate/Pre-Universit",
          "Matriculate/Secondary",
          "Middle",
          "No Education",
          "Post Graduate and Above",
          "Primary"
         ],
         "xaxis": "x",
         "y": [
          11202,
          29052,
          118218,
          245820,
          353289,
          398826,
          6612,
          409020
         ],
         "yaxis": "y"
        },
        {
         "alignmentgroup": "True",
         "hovertemplate": "Gender=Male<br>Education Status=%{x}<br>Total Suicides=%{text}<extra></extra>",
         "legendgroup": "Male",
         "marker": {
          "color": "#EF553B",
          "pattern": {
           "shape": ""
          }
         },
         "name": "Male",
         "offsetgroup": "Male",
         "orientation": "v",
         "showlegend": true,
         "text": [
          31257,
          64770,
          238506,
          523878,
          675624,
          566445,
          15813,
          679461
         ],
         "textposition": "auto",
         "type": "bar",
         "x": [
          "Diploma",
          "Graduate",
          "Hr. Secondary/Intermediate/Pre-Universit",
          "Matriculate/Secondary",
          "Middle",
          "No Education",
          "Post Graduate and Above",
          "Primary"
         ],
         "xaxis": "x",
         "y": [
          31257,
          64770,
          238506,
          523878,
          675624,
          566445,
          15813,
          679461
         ],
         "yaxis": "y"
        }
       ],
       "layout": {
        "barmode": "group",
        "legend": {
         "title": {
          "text": "Gender"
         },
         "tracegroupgap": 0
        },
        "template": {
         "data": {
          "bar": [
           {
            "error_x": {
             "color": "#2a3f5f"
            },
            "error_y": {
             "color": "#2a3f5f"
            },
            "marker": {
             "line": {
              "color": "#E5ECF6",
              "width": 0.5
             },
             "pattern": {
              "fillmode": "overlay",
              "size": 10,
              "solidity": 0.2
             }
            },
            "type": "bar"
           }
          ],
          "barpolar": [
           {
            "marker": {
             "line": {
              "color": "#E5ECF6",
              "width": 0.5
             },
             "pattern": {
              "fillmode": "overlay",
              "size": 10,
              "solidity": 0.2
             }
            },
            "type": "barpolar"
           }
          ],
          "carpet": [
           {
            "aaxis": {
             "endlinecolor": "#2a3f5f",
             "gridcolor": "white",
             "linecolor": "white",
             "minorgridcolor": "white",
             "startlinecolor": "#2a3f5f"
            },
            "baxis": {
             "endlinecolor": "#2a3f5f",
             "gridcolor": "white",
             "linecolor": "white",
             "minorgridcolor": "white",
             "startlinecolor": "#2a3f5f"
            },
            "type": "carpet"
           }
          ],
          "choropleth": [
           {
            "colorbar": {
             "outlinewidth": 0,
             "ticks": ""
            },
            "type": "choropleth"
           }
          ],
          "contour": [
           {
            "colorbar": {
             "outlinewidth": 0,
             "ticks": ""
            },
            "colorscale": [
             [
              0,
              "#0d0887"
             ],
             [
              0.1111111111111111,
              "#46039f"
             ],
             [
              0.2222222222222222,
              "#7201a8"
             ],
             [
              0.3333333333333333,
              "#9c179e"
             ],
             [
              0.4444444444444444,
              "#bd3786"
             ],
             [
              0.5555555555555556,
              "#d8576b"
             ],
             [
              0.6666666666666666,
              "#ed7953"
             ],
             [
              0.7777777777777778,
              "#fb9f3a"
             ],
             [
              0.8888888888888888,
              "#fdca26"
             ],
             [
              1,
              "#f0f921"
             ]
            ],
            "type": "contour"
           }
          ],
          "contourcarpet": [
           {
            "colorbar": {
             "outlinewidth": 0,
             "ticks": ""
            },
            "type": "contourcarpet"
           }
          ],
          "heatmap": [
           {
            "colorbar": {
             "outlinewidth": 0,
             "ticks": ""
            },
            "colorscale": [
             [
              0,
              "#0d0887"
             ],
             [
              0.1111111111111111,
              "#46039f"
             ],
             [
              0.2222222222222222,
              "#7201a8"
             ],
             [
              0.3333333333333333,
              "#9c179e"
             ],
             [
              0.4444444444444444,
              "#bd3786"
             ],
             [
              0.5555555555555556,
              "#d8576b"
             ],
             [
              0.6666666666666666,
              "#ed7953"
             ],
             [
              0.7777777777777778,
              "#fb9f3a"
             ],
             [
              0.8888888888888888,
              "#fdca26"
             ],
             [
              1,
              "#f0f921"
             ]
            ],
            "type": "heatmap"
           }
          ],
          "heatmapgl": [
           {
            "colorbar": {
             "outlinewidth": 0,
             "ticks": ""
            },
            "colorscale": [
             [
              0,
              "#0d0887"
             ],
             [
              0.1111111111111111,
              "#46039f"
             ],
             [
              0.2222222222222222,
              "#7201a8"
             ],
             [
              0.3333333333333333,
              "#9c179e"
             ],
             [
              0.4444444444444444,
              "#bd3786"
             ],
             [
              0.5555555555555556,
              "#d8576b"
             ],
             [
              0.6666666666666666,
              "#ed7953"
             ],
             [
              0.7777777777777778,
              "#fb9f3a"
             ],
             [
              0.8888888888888888,
              "#fdca26"
             ],
             [
              1,
              "#f0f921"
             ]
            ],
            "type": "heatmapgl"
           }
          ],
          "histogram": [
           {
            "marker": {
             "pattern": {
              "fillmode": "overlay",
              "size": 10,
              "solidity": 0.2
             }
            },
            "type": "histogram"
           }
          ],
          "histogram2d": [
           {
            "colorbar": {
             "outlinewidth": 0,
             "ticks": ""
            },
            "colorscale": [
             [
              0,
              "#0d0887"
             ],
             [
              0.1111111111111111,
              "#46039f"
             ],
             [
              0.2222222222222222,
              "#7201a8"
             ],
             [
              0.3333333333333333,
              "#9c179e"
             ],
             [
              0.4444444444444444,
              "#bd3786"
             ],
             [
              0.5555555555555556,
              "#d8576b"
             ],
             [
              0.6666666666666666,
              "#ed7953"
             ],
             [
              0.7777777777777778,
              "#fb9f3a"
             ],
             [
              0.8888888888888888,
              "#fdca26"
             ],
             [
              1,
              "#f0f921"
             ]
            ],
            "type": "histogram2d"
           }
          ],
          "histogram2dcontour": [
           {
            "colorbar": {
             "outlinewidth": 0,
             "ticks": ""
            },
            "colorscale": [
             [
              0,
              "#0d0887"
             ],
             [
              0.1111111111111111,
              "#46039f"
             ],
             [
              0.2222222222222222,
              "#7201a8"
             ],
             [
              0.3333333333333333,
              "#9c179e"
             ],
             [
              0.4444444444444444,
              "#bd3786"
             ],
             [
              0.5555555555555556,
              "#d8576b"
             ],
             [
              0.6666666666666666,
              "#ed7953"
             ],
             [
              0.7777777777777778,
              "#fb9f3a"
             ],
             [
              0.8888888888888888,
              "#fdca26"
             ],
             [
              1,
              "#f0f921"
             ]
            ],
            "type": "histogram2dcontour"
           }
          ],
          "mesh3d": [
           {
            "colorbar": {
             "outlinewidth": 0,
             "ticks": ""
            },
            "type": "mesh3d"
           }
          ],
          "parcoords": [
           {
            "line": {
             "colorbar": {
              "outlinewidth": 0,
              "ticks": ""
             }
            },
            "type": "parcoords"
           }
          ],
          "pie": [
           {
            "automargin": true,
            "type": "pie"
           }
          ],
          "scatter": [
           {
            "fillpattern": {
             "fillmode": "overlay",
             "size": 10,
             "solidity": 0.2
            },
            "type": "scatter"
           }
          ],
          "scatter3d": [
           {
            "line": {
             "colorbar": {
              "outlinewidth": 0,
              "ticks": ""
             }
            },
            "marker": {
             "colorbar": {
              "outlinewidth": 0,
              "ticks": ""
             }
            },
            "type": "scatter3d"
           }
          ],
          "scattercarpet": [
           {
            "marker": {
             "colorbar": {
              "outlinewidth": 0,
              "ticks": ""
             }
            },
            "type": "scattercarpet"
           }
          ],
          "scattergeo": [
           {
            "marker": {
             "colorbar": {
              "outlinewidth": 0,
              "ticks": ""
             }
            },
            "type": "scattergeo"
           }
          ],
          "scattergl": [
           {
            "marker": {
             "colorbar": {
              "outlinewidth": 0,
              "ticks": ""
             }
            },
            "type": "scattergl"
           }
          ],
          "scattermapbox": [
           {
            "marker": {
             "colorbar": {
              "outlinewidth": 0,
              "ticks": ""
             }
            },
            "type": "scattermapbox"
           }
          ],
          "scatterpolar": [
           {
            "marker": {
             "colorbar": {
              "outlinewidth": 0,
              "ticks": ""
             }
            },
            "type": "scatterpolar"
           }
          ],
          "scatterpolargl": [
           {
            "marker": {
             "colorbar": {
              "outlinewidth": 0,
              "ticks": ""
             }
            },
            "type": "scatterpolargl"
           }
          ],
          "scatterternary": [
           {
            "marker": {
             "colorbar": {
              "outlinewidth": 0,
              "ticks": ""
             }
            },
            "type": "scatterternary"
           }
          ],
          "surface": [
           {
            "colorbar": {
             "outlinewidth": 0,
             "ticks": ""
            },
            "colorscale": [
             [
              0,
              "#0d0887"
             ],
             [
              0.1111111111111111,
              "#46039f"
             ],
             [
              0.2222222222222222,
              "#7201a8"
             ],
             [
              0.3333333333333333,
              "#9c179e"
             ],
             [
              0.4444444444444444,
              "#bd3786"
             ],
             [
              0.5555555555555556,
              "#d8576b"
             ],
             [
              0.6666666666666666,
              "#ed7953"
             ],
             [
              0.7777777777777778,
              "#fb9f3a"
             ],
             [
              0.8888888888888888,
              "#fdca26"
             ],
             [
              1,
              "#f0f921"
             ]
            ],
            "type": "surface"
           }
          ],
          "table": [
           {
            "cells": {
             "fill": {
              "color": "#EBF0F8"
             },
             "line": {
              "color": "white"
             }
            },
            "header": {
             "fill": {
              "color": "#C8D4E3"
             },
             "line": {
              "color": "white"
             }
            },
            "type": "table"
           }
          ]
         },
         "layout": {
          "annotationdefaults": {
           "arrowcolor": "#2a3f5f",
           "arrowhead": 0,
           "arrowwidth": 1
          },
          "autotypenumbers": "strict",
          "coloraxis": {
           "colorbar": {
            "outlinewidth": 0,
            "ticks": ""
           }
          },
          "colorscale": {
           "diverging": [
            [
             0,
             "#8e0152"
            ],
            [
             0.1,
             "#c51b7d"
            ],
            [
             0.2,
             "#de77ae"
            ],
            [
             0.3,
             "#f1b6da"
            ],
            [
             0.4,
             "#fde0ef"
            ],
            [
             0.5,
             "#f7f7f7"
            ],
            [
             0.6,
             "#e6f5d0"
            ],
            [
             0.7,
             "#b8e186"
            ],
            [
             0.8,
             "#7fbc41"
            ],
            [
             0.9,
             "#4d9221"
            ],
            [
             1,
             "#276419"
            ]
           ],
           "sequential": [
            [
             0,
             "#0d0887"
            ],
            [
             0.1111111111111111,
             "#46039f"
            ],
            [
             0.2222222222222222,
             "#7201a8"
            ],
            [
             0.3333333333333333,
             "#9c179e"
            ],
            [
             0.4444444444444444,
             "#bd3786"
            ],
            [
             0.5555555555555556,
             "#d8576b"
            ],
            [
             0.6666666666666666,
             "#ed7953"
            ],
            [
             0.7777777777777778,
             "#fb9f3a"
            ],
            [
             0.8888888888888888,
             "#fdca26"
            ],
            [
             1,
             "#f0f921"
            ]
           ],
           "sequentialminus": [
            [
             0,
             "#0d0887"
            ],
            [
             0.1111111111111111,
             "#46039f"
            ],
            [
             0.2222222222222222,
             "#7201a8"
            ],
            [
             0.3333333333333333,
             "#9c179e"
            ],
            [
             0.4444444444444444,
             "#bd3786"
            ],
            [
             0.5555555555555556,
             "#d8576b"
            ],
            [
             0.6666666666666666,
             "#ed7953"
            ],
            [
             0.7777777777777778,
             "#fb9f3a"
            ],
            [
             0.8888888888888888,
             "#fdca26"
            ],
            [
             1,
             "#f0f921"
            ]
           ]
          },
          "colorway": [
           "#636efa",
           "#EF553B",
           "#00cc96",
           "#ab63fa",
           "#FFA15A",
           "#19d3f3",
           "#FF6692",
           "#B6E880",
           "#FF97FF",
           "#FECB52"
          ],
          "font": {
           "color": "#2a3f5f"
          },
          "geo": {
           "bgcolor": "white",
           "lakecolor": "white",
           "landcolor": "#E5ECF6",
           "showlakes": true,
           "showland": true,
           "subunitcolor": "white"
          },
          "hoverlabel": {
           "align": "left"
          },
          "hovermode": "closest",
          "mapbox": {
           "style": "light"
          },
          "paper_bgcolor": "white",
          "plot_bgcolor": "#E5ECF6",
          "polar": {
           "angularaxis": {
            "gridcolor": "white",
            "linecolor": "white",
            "ticks": ""
           },
           "bgcolor": "#E5ECF6",
           "radialaxis": {
            "gridcolor": "white",
            "linecolor": "white",
            "ticks": ""
           }
          },
          "scene": {
           "xaxis": {
            "backgroundcolor": "#E5ECF6",
            "gridcolor": "white",
            "gridwidth": 2,
            "linecolor": "white",
            "showbackground": true,
            "ticks": "",
            "zerolinecolor": "white"
           },
           "yaxis": {
            "backgroundcolor": "#E5ECF6",
            "gridcolor": "white",
            "gridwidth": 2,
            "linecolor": "white",
            "showbackground": true,
            "ticks": "",
            "zerolinecolor": "white"
           },
           "zaxis": {
            "backgroundcolor": "#E5ECF6",
            "gridcolor": "white",
            "gridwidth": 2,
            "linecolor": "white",
            "showbackground": true,
            "ticks": "",
            "zerolinecolor": "white"
           }
          },
          "shapedefaults": {
           "line": {
            "color": "#2a3f5f"
           }
          },
          "ternary": {
           "aaxis": {
            "gridcolor": "white",
            "linecolor": "white",
            "ticks": ""
           },
           "baxis": {
            "gridcolor": "white",
            "linecolor": "white",
            "ticks": ""
           },
           "bgcolor": "#E5ECF6",
           "caxis": {
            "gridcolor": "white",
            "linecolor": "white",
            "ticks": ""
           }
          },
          "title": {
           "x": 0.05
          },
          "xaxis": {
           "automargin": true,
           "gridcolor": "white",
           "linecolor": "white",
           "ticks": "",
           "title": {
            "standoff": 15
           },
           "zerolinecolor": "white",
           "zerolinewidth": 2
          },
          "yaxis": {
           "automargin": true,
           "gridcolor": "white",
           "linecolor": "white",
           "ticks": "",
           "title": {
            "standoff": 15
           },
           "zerolinecolor": "white",
           "zerolinewidth": 2
          }
         }
        },
        "title": {
         "text": "Suicide by Education Status"
        },
        "xaxis": {
         "anchor": "y",
         "domain": [
          0,
          1
         ],
         "tickangle": -45,
         "title": {
          "text": ""
         }
        },
        "yaxis": {
         "anchor": "x",
         "domain": [
          0,
          1
         ],
         "title": {
          "text": "Total Suicides"
         }
        }
       }
      }
     },
     "metadata": {},
     "output_type": "display_data"
    }
   ],
   "source": [
    "# Convert 'suicide_educ' to Plotly DataFrame format\n",
    "suicide_educ_plotly = pd.DataFrame(suicide_educ)\n",
    "\n",
    "# Create the bar plot using Plotly Express\n",
    "fig = px.bar(suicide_educ_plotly,\n",
    "            x='Type', y='Total',\n",
    "            color='Gender',\n",
    "            barmode='group',\n",
    "            text='Total',\n",
    "            title='Suicide by Education Status',\n",
    "            labels={'Type': 'Education Status', 'Total': 'Total Suicides', 'Gender': 'Gender'}\n",
    ")\n",
    "\n",
    "# Update layout for better visualization\n",
    "fig.update_layout(xaxis_tickangle=-45, xaxis_title='', yaxis_title='Total Suicides')\n",
    "\n",
    "# Display the figure\n",
    "fig.show()\n"
   ]
  },
  {
   "cell_type": "markdown",
   "metadata": {},
   "source": [
    "### Suicide by social status and gender"
   ]
  },
  {
   "cell_type": "code",
   "execution_count": 50,
   "metadata": {},
   "outputs": [
    {
     "data": {
      "text/html": [
       "<div>\n",
       "<style scoped>\n",
       "    .dataframe tbody tr th:only-of-type {\n",
       "        vertical-align: middle;\n",
       "    }\n",
       "\n",
       "    .dataframe tbody tr th {\n",
       "        vertical-align: top;\n",
       "    }\n",
       "\n",
       "    .dataframe thead th {\n",
       "        text-align: right;\n",
       "    }\n",
       "</style>\n",
       "<table border=\"1\" class=\"dataframe\">\n",
       "  <thead>\n",
       "    <tr style=\"text-align: right;\">\n",
       "      <th></th>\n",
       "      <th>Type</th>\n",
       "      <th>Gender</th>\n",
       "      <th>Total</th>\n",
       "    </tr>\n",
       "  </thead>\n",
       "  <tbody>\n",
       "    <tr>\n",
       "      <th>0</th>\n",
       "      <td>Divorcee</td>\n",
       "      <td>Female</td>\n",
       "      <td>23076</td>\n",
       "    </tr>\n",
       "    <tr>\n",
       "      <th>1</th>\n",
       "      <td>Divorcee</td>\n",
       "      <td>Male</td>\n",
       "      <td>22740</td>\n",
       "    </tr>\n",
       "    <tr>\n",
       "      <th>2</th>\n",
       "      <td>Married</td>\n",
       "      <td>Female</td>\n",
       "      <td>1070301</td>\n",
       "    </tr>\n",
       "    <tr>\n",
       "      <th>3</th>\n",
       "      <td>Married</td>\n",
       "      <td>Male</td>\n",
       "      <td>1995021</td>\n",
       "    </tr>\n",
       "    <tr>\n",
       "      <th>4</th>\n",
       "      <td>Never Married</td>\n",
       "      <td>Female</td>\n",
       "      <td>346380</td>\n",
       "    </tr>\n",
       "  </tbody>\n",
       "</table>\n",
       "</div>"
      ],
      "text/plain": [
       "            Type  Gender    Total\n",
       "0       Divorcee  Female    23076\n",
       "1       Divorcee    Male    22740\n",
       "2        Married  Female  1070301\n",
       "3        Married    Male  1995021\n",
       "4  Never Married  Female   346380"
      ]
     },
     "execution_count": 50,
     "metadata": {},
     "output_type": "execute_result"
    }
   ],
   "source": [
    "suicide_status = df[df['Type_code'] == 'Social_Status'].groupby(['Type', 'Gender'])['Total'].sum().reset_index()\n",
    "suicide_status.head()"
   ]
  },
  {
   "cell_type": "code",
   "execution_count": 51,
   "metadata": {},
   "outputs": [
    {
     "data": {
      "application/vnd.plotly.v1+json": {
       "config": {
        "plotlyServerURL": "https://plot.ly"
       },
       "data": [
        {
         "alignmentgroup": "True",
         "hovertemplate": "Gender=Female<br>Social Status=%{x}<br>Total Suicides=%{text}<extra></extra>",
         "legendgroup": "Female",
         "marker": {
          "color": "#636efa",
          "pattern": {
           "shape": ""
          }
         },
         "name": "Female",
         "offsetgroup": "Female",
         "orientation": "v",
         "showlegend": true,
         "text": [
          23076,
          1070301,
          346380,
          42495,
          89787
         ],
         "textposition": "auto",
         "type": "bar",
         "x": [
          "Divorcee",
          "Married",
          "Never Married",
          "Seperated",
          "Widowed/Widower"
         ],
         "xaxis": "x",
         "y": [
          23076,
          1070301,
          346380,
          42495,
          89787
         ],
         "yaxis": "y"
        },
        {
         "alignmentgroup": "True",
         "hovertemplate": "Gender=Male<br>Social Status=%{x}<br>Total Suicides=%{text}<extra></extra>",
         "legendgroup": "Male",
         "marker": {
          "color": "#EF553B",
          "pattern": {
           "shape": ""
          }
         },
         "name": "Male",
         "offsetgroup": "Male",
         "orientation": "v",
         "showlegend": true,
         "text": [
          22740,
          1995021,
          608523,
          72918,
          96552
         ],
         "textposition": "auto",
         "type": "bar",
         "x": [
          "Divorcee",
          "Married",
          "Never Married",
          "Seperated",
          "Widowed/Widower"
         ],
         "xaxis": "x",
         "y": [
          22740,
          1995021,
          608523,
          72918,
          96552
         ],
         "yaxis": "y"
        }
       ],
       "layout": {
        "barmode": "group",
        "legend": {
         "title": {
          "text": "Gender"
         },
         "tracegroupgap": 0
        },
        "template": {
         "data": {
          "bar": [
           {
            "error_x": {
             "color": "#2a3f5f"
            },
            "error_y": {
             "color": "#2a3f5f"
            },
            "marker": {
             "line": {
              "color": "#E5ECF6",
              "width": 0.5
             },
             "pattern": {
              "fillmode": "overlay",
              "size": 10,
              "solidity": 0.2
             }
            },
            "type": "bar"
           }
          ],
          "barpolar": [
           {
            "marker": {
             "line": {
              "color": "#E5ECF6",
              "width": 0.5
             },
             "pattern": {
              "fillmode": "overlay",
              "size": 10,
              "solidity": 0.2
             }
            },
            "type": "barpolar"
           }
          ],
          "carpet": [
           {
            "aaxis": {
             "endlinecolor": "#2a3f5f",
             "gridcolor": "white",
             "linecolor": "white",
             "minorgridcolor": "white",
             "startlinecolor": "#2a3f5f"
            },
            "baxis": {
             "endlinecolor": "#2a3f5f",
             "gridcolor": "white",
             "linecolor": "white",
             "minorgridcolor": "white",
             "startlinecolor": "#2a3f5f"
            },
            "type": "carpet"
           }
          ],
          "choropleth": [
           {
            "colorbar": {
             "outlinewidth": 0,
             "ticks": ""
            },
            "type": "choropleth"
           }
          ],
          "contour": [
           {
            "colorbar": {
             "outlinewidth": 0,
             "ticks": ""
            },
            "colorscale": [
             [
              0,
              "#0d0887"
             ],
             [
              0.1111111111111111,
              "#46039f"
             ],
             [
              0.2222222222222222,
              "#7201a8"
             ],
             [
              0.3333333333333333,
              "#9c179e"
             ],
             [
              0.4444444444444444,
              "#bd3786"
             ],
             [
              0.5555555555555556,
              "#d8576b"
             ],
             [
              0.6666666666666666,
              "#ed7953"
             ],
             [
              0.7777777777777778,
              "#fb9f3a"
             ],
             [
              0.8888888888888888,
              "#fdca26"
             ],
             [
              1,
              "#f0f921"
             ]
            ],
            "type": "contour"
           }
          ],
          "contourcarpet": [
           {
            "colorbar": {
             "outlinewidth": 0,
             "ticks": ""
            },
            "type": "contourcarpet"
           }
          ],
          "heatmap": [
           {
            "colorbar": {
             "outlinewidth": 0,
             "ticks": ""
            },
            "colorscale": [
             [
              0,
              "#0d0887"
             ],
             [
              0.1111111111111111,
              "#46039f"
             ],
             [
              0.2222222222222222,
              "#7201a8"
             ],
             [
              0.3333333333333333,
              "#9c179e"
             ],
             [
              0.4444444444444444,
              "#bd3786"
             ],
             [
              0.5555555555555556,
              "#d8576b"
             ],
             [
              0.6666666666666666,
              "#ed7953"
             ],
             [
              0.7777777777777778,
              "#fb9f3a"
             ],
             [
              0.8888888888888888,
              "#fdca26"
             ],
             [
              1,
              "#f0f921"
             ]
            ],
            "type": "heatmap"
           }
          ],
          "heatmapgl": [
           {
            "colorbar": {
             "outlinewidth": 0,
             "ticks": ""
            },
            "colorscale": [
             [
              0,
              "#0d0887"
             ],
             [
              0.1111111111111111,
              "#46039f"
             ],
             [
              0.2222222222222222,
              "#7201a8"
             ],
             [
              0.3333333333333333,
              "#9c179e"
             ],
             [
              0.4444444444444444,
              "#bd3786"
             ],
             [
              0.5555555555555556,
              "#d8576b"
             ],
             [
              0.6666666666666666,
              "#ed7953"
             ],
             [
              0.7777777777777778,
              "#fb9f3a"
             ],
             [
              0.8888888888888888,
              "#fdca26"
             ],
             [
              1,
              "#f0f921"
             ]
            ],
            "type": "heatmapgl"
           }
          ],
          "histogram": [
           {
            "marker": {
             "pattern": {
              "fillmode": "overlay",
              "size": 10,
              "solidity": 0.2
             }
            },
            "type": "histogram"
           }
          ],
          "histogram2d": [
           {
            "colorbar": {
             "outlinewidth": 0,
             "ticks": ""
            },
            "colorscale": [
             [
              0,
              "#0d0887"
             ],
             [
              0.1111111111111111,
              "#46039f"
             ],
             [
              0.2222222222222222,
              "#7201a8"
             ],
             [
              0.3333333333333333,
              "#9c179e"
             ],
             [
              0.4444444444444444,
              "#bd3786"
             ],
             [
              0.5555555555555556,
              "#d8576b"
             ],
             [
              0.6666666666666666,
              "#ed7953"
             ],
             [
              0.7777777777777778,
              "#fb9f3a"
             ],
             [
              0.8888888888888888,
              "#fdca26"
             ],
             [
              1,
              "#f0f921"
             ]
            ],
            "type": "histogram2d"
           }
          ],
          "histogram2dcontour": [
           {
            "colorbar": {
             "outlinewidth": 0,
             "ticks": ""
            },
            "colorscale": [
             [
              0,
              "#0d0887"
             ],
             [
              0.1111111111111111,
              "#46039f"
             ],
             [
              0.2222222222222222,
              "#7201a8"
             ],
             [
              0.3333333333333333,
              "#9c179e"
             ],
             [
              0.4444444444444444,
              "#bd3786"
             ],
             [
              0.5555555555555556,
              "#d8576b"
             ],
             [
              0.6666666666666666,
              "#ed7953"
             ],
             [
              0.7777777777777778,
              "#fb9f3a"
             ],
             [
              0.8888888888888888,
              "#fdca26"
             ],
             [
              1,
              "#f0f921"
             ]
            ],
            "type": "histogram2dcontour"
           }
          ],
          "mesh3d": [
           {
            "colorbar": {
             "outlinewidth": 0,
             "ticks": ""
            },
            "type": "mesh3d"
           }
          ],
          "parcoords": [
           {
            "line": {
             "colorbar": {
              "outlinewidth": 0,
              "ticks": ""
             }
            },
            "type": "parcoords"
           }
          ],
          "pie": [
           {
            "automargin": true,
            "type": "pie"
           }
          ],
          "scatter": [
           {
            "fillpattern": {
             "fillmode": "overlay",
             "size": 10,
             "solidity": 0.2
            },
            "type": "scatter"
           }
          ],
          "scatter3d": [
           {
            "line": {
             "colorbar": {
              "outlinewidth": 0,
              "ticks": ""
             }
            },
            "marker": {
             "colorbar": {
              "outlinewidth": 0,
              "ticks": ""
             }
            },
            "type": "scatter3d"
           }
          ],
          "scattercarpet": [
           {
            "marker": {
             "colorbar": {
              "outlinewidth": 0,
              "ticks": ""
             }
            },
            "type": "scattercarpet"
           }
          ],
          "scattergeo": [
           {
            "marker": {
             "colorbar": {
              "outlinewidth": 0,
              "ticks": ""
             }
            },
            "type": "scattergeo"
           }
          ],
          "scattergl": [
           {
            "marker": {
             "colorbar": {
              "outlinewidth": 0,
              "ticks": ""
             }
            },
            "type": "scattergl"
           }
          ],
          "scattermapbox": [
           {
            "marker": {
             "colorbar": {
              "outlinewidth": 0,
              "ticks": ""
             }
            },
            "type": "scattermapbox"
           }
          ],
          "scatterpolar": [
           {
            "marker": {
             "colorbar": {
              "outlinewidth": 0,
              "ticks": ""
             }
            },
            "type": "scatterpolar"
           }
          ],
          "scatterpolargl": [
           {
            "marker": {
             "colorbar": {
              "outlinewidth": 0,
              "ticks": ""
             }
            },
            "type": "scatterpolargl"
           }
          ],
          "scatterternary": [
           {
            "marker": {
             "colorbar": {
              "outlinewidth": 0,
              "ticks": ""
             }
            },
            "type": "scatterternary"
           }
          ],
          "surface": [
           {
            "colorbar": {
             "outlinewidth": 0,
             "ticks": ""
            },
            "colorscale": [
             [
              0,
              "#0d0887"
             ],
             [
              0.1111111111111111,
              "#46039f"
             ],
             [
              0.2222222222222222,
              "#7201a8"
             ],
             [
              0.3333333333333333,
              "#9c179e"
             ],
             [
              0.4444444444444444,
              "#bd3786"
             ],
             [
              0.5555555555555556,
              "#d8576b"
             ],
             [
              0.6666666666666666,
              "#ed7953"
             ],
             [
              0.7777777777777778,
              "#fb9f3a"
             ],
             [
              0.8888888888888888,
              "#fdca26"
             ],
             [
              1,
              "#f0f921"
             ]
            ],
            "type": "surface"
           }
          ],
          "table": [
           {
            "cells": {
             "fill": {
              "color": "#EBF0F8"
             },
             "line": {
              "color": "white"
             }
            },
            "header": {
             "fill": {
              "color": "#C8D4E3"
             },
             "line": {
              "color": "white"
             }
            },
            "type": "table"
           }
          ]
         },
         "layout": {
          "annotationdefaults": {
           "arrowcolor": "#2a3f5f",
           "arrowhead": 0,
           "arrowwidth": 1
          },
          "autotypenumbers": "strict",
          "coloraxis": {
           "colorbar": {
            "outlinewidth": 0,
            "ticks": ""
           }
          },
          "colorscale": {
           "diverging": [
            [
             0,
             "#8e0152"
            ],
            [
             0.1,
             "#c51b7d"
            ],
            [
             0.2,
             "#de77ae"
            ],
            [
             0.3,
             "#f1b6da"
            ],
            [
             0.4,
             "#fde0ef"
            ],
            [
             0.5,
             "#f7f7f7"
            ],
            [
             0.6,
             "#e6f5d0"
            ],
            [
             0.7,
             "#b8e186"
            ],
            [
             0.8,
             "#7fbc41"
            ],
            [
             0.9,
             "#4d9221"
            ],
            [
             1,
             "#276419"
            ]
           ],
           "sequential": [
            [
             0,
             "#0d0887"
            ],
            [
             0.1111111111111111,
             "#46039f"
            ],
            [
             0.2222222222222222,
             "#7201a8"
            ],
            [
             0.3333333333333333,
             "#9c179e"
            ],
            [
             0.4444444444444444,
             "#bd3786"
            ],
            [
             0.5555555555555556,
             "#d8576b"
            ],
            [
             0.6666666666666666,
             "#ed7953"
            ],
            [
             0.7777777777777778,
             "#fb9f3a"
            ],
            [
             0.8888888888888888,
             "#fdca26"
            ],
            [
             1,
             "#f0f921"
            ]
           ],
           "sequentialminus": [
            [
             0,
             "#0d0887"
            ],
            [
             0.1111111111111111,
             "#46039f"
            ],
            [
             0.2222222222222222,
             "#7201a8"
            ],
            [
             0.3333333333333333,
             "#9c179e"
            ],
            [
             0.4444444444444444,
             "#bd3786"
            ],
            [
             0.5555555555555556,
             "#d8576b"
            ],
            [
             0.6666666666666666,
             "#ed7953"
            ],
            [
             0.7777777777777778,
             "#fb9f3a"
            ],
            [
             0.8888888888888888,
             "#fdca26"
            ],
            [
             1,
             "#f0f921"
            ]
           ]
          },
          "colorway": [
           "#636efa",
           "#EF553B",
           "#00cc96",
           "#ab63fa",
           "#FFA15A",
           "#19d3f3",
           "#FF6692",
           "#B6E880",
           "#FF97FF",
           "#FECB52"
          ],
          "font": {
           "color": "#2a3f5f"
          },
          "geo": {
           "bgcolor": "white",
           "lakecolor": "white",
           "landcolor": "#E5ECF6",
           "showlakes": true,
           "showland": true,
           "subunitcolor": "white"
          },
          "hoverlabel": {
           "align": "left"
          },
          "hovermode": "closest",
          "mapbox": {
           "style": "light"
          },
          "paper_bgcolor": "white",
          "plot_bgcolor": "#E5ECF6",
          "polar": {
           "angularaxis": {
            "gridcolor": "white",
            "linecolor": "white",
            "ticks": ""
           },
           "bgcolor": "#E5ECF6",
           "radialaxis": {
            "gridcolor": "white",
            "linecolor": "white",
            "ticks": ""
           }
          },
          "scene": {
           "xaxis": {
            "backgroundcolor": "#E5ECF6",
            "gridcolor": "white",
            "gridwidth": 2,
            "linecolor": "white",
            "showbackground": true,
            "ticks": "",
            "zerolinecolor": "white"
           },
           "yaxis": {
            "backgroundcolor": "#E5ECF6",
            "gridcolor": "white",
            "gridwidth": 2,
            "linecolor": "white",
            "showbackground": true,
            "ticks": "",
            "zerolinecolor": "white"
           },
           "zaxis": {
            "backgroundcolor": "#E5ECF6",
            "gridcolor": "white",
            "gridwidth": 2,
            "linecolor": "white",
            "showbackground": true,
            "ticks": "",
            "zerolinecolor": "white"
           }
          },
          "shapedefaults": {
           "line": {
            "color": "#2a3f5f"
           }
          },
          "ternary": {
           "aaxis": {
            "gridcolor": "white",
            "linecolor": "white",
            "ticks": ""
           },
           "baxis": {
            "gridcolor": "white",
            "linecolor": "white",
            "ticks": ""
           },
           "bgcolor": "#E5ECF6",
           "caxis": {
            "gridcolor": "white",
            "linecolor": "white",
            "ticks": ""
           }
          },
          "title": {
           "x": 0.05
          },
          "xaxis": {
           "automargin": true,
           "gridcolor": "white",
           "linecolor": "white",
           "ticks": "",
           "title": {
            "standoff": 15
           },
           "zerolinecolor": "white",
           "zerolinewidth": 2
          },
          "yaxis": {
           "automargin": true,
           "gridcolor": "white",
           "linecolor": "white",
           "ticks": "",
           "title": {
            "standoff": 15
           },
           "zerolinecolor": "white",
           "zerolinewidth": 2
          }
         }
        },
        "title": {
         "text": "Total Suicides by Social Status and Gender"
        },
        "xaxis": {
         "anchor": "y",
         "domain": [
          0,
          1
         ],
         "tickangle": -45,
         "title": {
          "text": ""
         }
        },
        "yaxis": {
         "anchor": "x",
         "domain": [
          0,
          1
         ],
         "title": {
          "text": "Total Suicides"
         }
        }
       }
      }
     },
     "metadata": {},
     "output_type": "display_data"
    }
   ],
   "source": [
    "# Convert 'suicide_status' to Plotly DataFrame format\n",
    "suicide_status_plotly = pd.DataFrame(suicide_status)\n",
    "\n",
    "# Create the bar plot using Plotly Express\n",
    "fig = px.bar(suicide_status_plotly,\n",
    "             x='Type',\n",
    "             y='Total',\n",
    "             color='Gender',\n",
    "             barmode='group',\n",
    "             text='Total',\n",
    "             title='Total Suicides by Social Status and Gender',\n",
    "             labels={'Type': 'Social Status', 'Total': 'Total Suicides', 'Gender': 'Gender'}\n",
    ")\n",
    "\n",
    "# Update layout for better visualization\n",
    "fig.update_layout(xaxis_tickangle=-45, xaxis_title='', yaxis_title='Total Suicides')\n",
    "\n",
    "# Display the figure\n",
    "fig.show()\n"
   ]
  }
 ],
 "metadata": {
  "kernelspec": {
   "display_name": "Python 3",
   "language": "python",
   "name": "python3"
  },
  "language_info": {
   "codemirror_mode": {
    "name": "ipython",
    "version": 3
   },
   "file_extension": ".py",
   "mimetype": "text/x-python",
   "name": "python",
   "nbconvert_exporter": "python",
   "pygments_lexer": "ipython3",
   "version": "3.12.2"
  }
 },
 "nbformat": 4,
 "nbformat_minor": 2
}
